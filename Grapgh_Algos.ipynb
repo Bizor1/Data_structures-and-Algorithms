{
  "nbformat": 4,
  "nbformat_minor": 0,
  "metadata": {
    "colab": {
      "provenance": [],
      "authorship_tag": "ABX9TyPGfgtDk7ZhqzvgYwOgUdjv",
      "include_colab_link": true
    },
    "kernelspec": {
      "name": "python3",
      "display_name": "Python 3"
    },
    "language_info": {
      "name": "python"
    }
  },
  "cells": [
    {
      "cell_type": "markdown",
      "metadata": {
        "id": "view-in-github",
        "colab_type": "text"
      },
      "source": [
        "<a href=\"https://colab.research.google.com/github/Bizor1/Data_structures-and-Algorithms/blob/main/Grapgh_Algos.ipynb\" target=\"_parent\"><img src=\"https://colab.research.google.com/assets/colab-badge.svg\" alt=\"Open In Colab\"/></a>"
      ]
    },
    {
      "cell_type": "code",
      "execution_count": 1,
      "metadata": {
        "id": "0byURzT0wUwt"
      },
      "outputs": [],
      "source": [
        "num_nodes=5\n",
        "edges=[(0,1),(0,4),(1,2),(1,3),(2,3),(3,4),(1,4)]"
      ]
    },
    {
      "cell_type": "code",
      "source": [
        "num_nodes,len(edges)"
      ],
      "metadata": {
        "colab": {
          "base_uri": "https://localhost:8080/"
        },
        "id": "O2uSGCN5w2Rx",
        "outputId": "dc81dffa-f649-4297-c2ac-7e4e64736de4"
      },
      "execution_count": 2,
      "outputs": [
        {
          "output_type": "execute_result",
          "data": {
            "text/plain": [
              "(5, 7)"
            ]
          },
          "metadata": {},
          "execution_count": 2
        }
      ]
    },
    {
      "cell_type": "code",
      "source": [
        "l1=[[]] *10\n",
        "l1"
      ],
      "metadata": {
        "colab": {
          "base_uri": "https://localhost:8080/"
        },
        "id": "EDtf3AhI0NKU",
        "outputId": "37e71a45-83a1-4583-9172-a31f5c51ed6d"
      },
      "execution_count": 3,
      "outputs": [
        {
          "output_type": "execute_result",
          "data": {
            "text/plain": [
              "[[], [], [], [], [], [], [], [], [], []]"
            ]
          },
          "metadata": {},
          "execution_count": 3
        }
      ]
    },
    {
      "cell_type": "code",
      "source": [
        "l1[0].append(1)\n",
        "l1"
      ],
      "metadata": {
        "colab": {
          "base_uri": "https://localhost:8080/"
        },
        "id": "0Ltjrf_r0d_t",
        "outputId": "14e8bf17-8465-4bec-efc5-7b2ef095327b"
      },
      "execution_count": 4,
      "outputs": [
        {
          "output_type": "execute_result",
          "data": {
            "text/plain": [
              "[[1], [1], [1], [1], [1], [1], [1], [1], [1], [1]]"
            ]
          },
          "metadata": {},
          "execution_count": 4
        }
      ]
    },
    {
      "cell_type": "code",
      "source": [
        "[x*2 for x in range(10)] "
      ],
      "metadata": {
        "colab": {
          "base_uri": "https://localhost:8080/"
        },
        "id": "Q4tYhIly1xYT",
        "outputId": "de79771e-c65e-44b5-d7cf-f81936866637"
      },
      "execution_count": 5,
      "outputs": [
        {
          "output_type": "execute_result",
          "data": {
            "text/plain": [
              "[0, 2, 4, 6, 8, 10, 12, 14, 16, 18]"
            ]
          },
          "metadata": {},
          "execution_count": 5
        }
      ]
    },
    {
      "cell_type": "code",
      "source": [
        "l2=[[] for _ in range(10)]"
      ],
      "metadata": {
        "id": "cFATxXr64Qyh"
      },
      "execution_count": 6,
      "outputs": []
    },
    {
      "cell_type": "code",
      "source": [
        "l2[0].append(1)\n",
        "l2"
      ],
      "metadata": {
        "colab": {
          "base_uri": "https://localhost:8080/"
        },
        "id": "tb4j2IKh4JuS",
        "outputId": "2c91c240-ca80-4f28-93a7-85759ce632c2"
      },
      "execution_count": 7,
      "outputs": [
        {
          "output_type": "execute_result",
          "data": {
            "text/plain": [
              "[[1], [], [], [], [], [], [], [], [], []]"
            ]
          },
          "metadata": {},
          "execution_count": 7
        }
      ]
    },
    {
      "cell_type": "code",
      "source": [
        "for n1,n2 in edges:\n",
        "  print(n1,n2)"
      ],
      "metadata": {
        "colab": {
          "base_uri": "https://localhost:8080/"
        },
        "id": "F1cQ5gRk5xUc",
        "outputId": "0cd005ef-e323-4f28-e5e8-d46552ebb29d"
      },
      "execution_count": 8,
      "outputs": [
        {
          "output_type": "stream",
          "name": "stdout",
          "text": [
            "0 1\n",
            "0 4\n",
            "1 2\n",
            "1 3\n",
            "2 3\n",
            "3 4\n",
            "1 4\n"
          ]
        }
      ]
    },
    {
      "cell_type": "code",
      "source": [
        "class Graph:\n",
        "  def __init__(self,num_nodes,edges):\n",
        "    self.num_nodes=num_nodes\n",
        "    self.data=[[]for _ in range(num_nodes)]\n",
        "    for n1,n2 in edges:\n",
        "      self.data[n1].append(n2)\n",
        "      self.data[n2].append(n1) \n",
        "\n",
        "  def __repr__(self):\n",
        "    return \"\\n\".join([\"{}:{}\".format(n,neighbors) for n, neighbors in enumerate(self.data)])\n",
        "\n",
        "\n",
        "  def __str__(self):\n",
        "    return self.__repr__()\n",
        "\n",
        "\n",
        "\n",
        "\n"
      ],
      "metadata": {
        "id": "a2UvaN0Azoz5"
      },
      "execution_count": 9,
      "outputs": []
    },
    {
      "cell_type": "code",
      "source": [
        "for x in enumerate([5,3,4,5]):\n",
        "  print(x)"
      ],
      "metadata": {
        "colab": {
          "base_uri": "https://localhost:8080/"
        },
        "id": "ehfy4vuzHpaC",
        "outputId": "5fe422ca-3e60-47a2-fdfb-4f667a4f39a8"
      },
      "execution_count": 10,
      "outputs": [
        {
          "output_type": "stream",
          "name": "stdout",
          "text": [
            "(0, 5)\n",
            "(1, 3)\n",
            "(2, 4)\n",
            "(3, 5)\n"
          ]
        }
      ]
    },
    {
      "cell_type": "code",
      "source": [],
      "metadata": {
        "colab": {
          "base_uri": "https://localhost:8080/",
          "height": 166
        },
        "id": "vzcbUlrpIm8g",
        "outputId": "dd633b02-1017-469f-b012-65e3742c11cf"
      },
      "execution_count": 11,
      "outputs": [
        {
          "output_type": "error",
          "ename": "NameError",
          "evalue": "ignored",
          "traceback": [
            "\u001b[0;31m---------------------------------------------------------------------------\u001b[0m",
            "\u001b[0;31mNameError\u001b[0m                                 Traceback (most recent call last)",
            "\u001b[0;32m<ipython-input-11-29770af1bb6d>\u001b[0m in \u001b[0;36m<cell line: 1>\u001b[0;34m()\u001b[0m\n\u001b[0;32m----> 1\u001b[0;31m \u001b[0mgraph1\u001b[0m\u001b[0;34m\u001b[0m\u001b[0;34m\u001b[0m\u001b[0m\n\u001b[0m",
            "\u001b[0;31mNameError\u001b[0m: name 'graph1' is not defined"
          ]
        }
      ]
    },
    {
      "cell_type": "code",
      "source": [
        "graph1 = Graph(num_nodes,edges)"
      ],
      "metadata": {
        "id": "NOGlMRpBIQqR"
      },
      "execution_count": 12,
      "outputs": []
    },
    {
      "cell_type": "code",
      "source": [
        "graph1"
      ],
      "metadata": {
        "colab": {
          "base_uri": "https://localhost:8080/"
        },
        "id": "OOb8-qpcKbwI",
        "outputId": "b3a67f6f-5e6f-478f-ccb9-25f4fd30f568"
      },
      "execution_count": 13,
      "outputs": [
        {
          "output_type": "execute_result",
          "data": {
            "text/plain": [
              "0:[1, 4]\n",
              "1:[0, 2, 3, 4]\n",
              "2:[1, 3]\n",
              "3:[1, 2, 4]\n",
              "4:[0, 3, 1]"
            ]
          },
          "metadata": {},
          "execution_count": 13
        }
      ]
    },
    {
      "cell_type": "code",
      "source": [
        "for x in enumerate(graph1.data):\n",
        "  print(x)"
      ],
      "metadata": {
        "colab": {
          "base_uri": "https://localhost:8080/"
        },
        "id": "n6p87X8HIn_a",
        "outputId": "046eaf41-ee5c-4588-c43b-02b9cfc536c0"
      },
      "execution_count": 14,
      "outputs": [
        {
          "output_type": "stream",
          "name": "stdout",
          "text": [
            "(0, [1, 4])\n",
            "(1, [0, 2, 3, 4])\n",
            "(2, [1, 3])\n",
            "(3, [1, 2, 4])\n",
            "(4, [0, 3, 1])\n"
          ]
        }
      ]
    },
    {
      "cell_type": "code",
      "source": [
        "def bfs(graph,root):\n",
        "  queue=[]\n",
        "  discovered=[False] * len(graph.data)\n",
        "  distance=[None] * len(graph.data)\n",
        "  parent=[None]*len(graph.data)\n",
        "  discovered[root]=True\n",
        "  queue.append(root)\n",
        "  \n",
        "  idx=0 \n",
        "  while idx< len(queue):\n",
        "    current=queue[idx]\n",
        "    idx+=1\n",
        "\n",
        "    for node in graph.data[current]:\n",
        "      if not discovered[node]:\n",
        "        distance[node]= 1+ distance[current]\n",
        "        parent[node]=current\n",
        "        discovered[node]=True\n",
        "        queue.append(node)\n",
        "\n",
        "  return queue,distance,parent"
      ],
      "metadata": {
        "id": "rnm7U_k-xZr6"
      },
      "execution_count": 18,
      "outputs": []
    },
    {
      "cell_type": "code",
      "source": [
        "def bfs(graph,root):\n",
        "  queue=[]\n",
        "  discovered=[False] * len(graph.data)\n",
        "  distance=[0] * len(graph.data)\n",
        "  parent=[None]*len(graph.data)\n",
        "  discovered[root]=True\n",
        "  queue.append(root)\n",
        "  \n",
        "  idx=0 \n",
        "  while idx< len(queue):\n",
        "    current=queue[idx]\n",
        "    print(current)\n",
        "    idx+=1\n",
        "\n",
        "    for node in graph.data[current]:\n",
        "      print\n",
        "      if not discovered[node]:\n",
        "        distance[node]= 1+ distance[current]\n",
        "        parent[node]=current\n",
        "        discovered[node]=True\n",
        "        queue.append(node)\n",
        "\n",
        "  return queue,distance,parent\n"
      ],
      "metadata": {
        "id": "VzDVnZvrNGOj"
      },
      "execution_count": 32,
      "outputs": []
    },
    {
      "cell_type": "code",
      "source": [
        "bfs(graph1,3)"
      ],
      "metadata": {
        "colab": {
          "base_uri": "https://localhost:8080/"
        },
        "id": "74AlbfwL7AnE",
        "outputId": "8dde076d-ef4c-4060-cd86-53bdde58acd2"
      },
      "execution_count": 33,
      "outputs": [
        {
          "output_type": "stream",
          "name": "stdout",
          "text": [
            "3\n",
            "1\n",
            "2\n",
            "4\n",
            "0\n"
          ]
        },
        {
          "output_type": "execute_result",
          "data": {
            "text/plain": [
              "([3, 1, 2, 4, 0], [2, 1, 1, 0, 1], [1, 3, 3, None, 3])"
            ]
          },
          "metadata": {},
          "execution_count": 33
        }
      ]
    }
  ]
}