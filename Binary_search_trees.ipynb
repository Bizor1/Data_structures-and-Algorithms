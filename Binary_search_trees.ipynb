{
  "cells": [
    {
      "cell_type": "markdown",
      "metadata": {
        "id": "view-in-github",
        "colab_type": "text"
      },
      "source": [
        "<a href=\"https://colab.research.google.com/github/Bizor1/Data_structures-and-Algorithms/blob/main/Binary_search_trees.ipynb\" target=\"_parent\"><img src=\"https://colab.research.google.com/assets/colab-badge.svg\" alt=\"Open In Colab\"/></a>"
      ]
    },
    {
      "cell_type": "code",
      "execution_count": 1,
      "metadata": {
        "id": "Rcg9Xd15cCzE"
      },
      "outputs": [],
      "source": [
        "\n",
        "\n",
        "    #QUESTION 1: As a senior backend engineer at Jovian, you are tasked with developing a fast in-memory data structure to manage profile information (username, name and email) for 100 million users. It should allow the following operations to be performed efficiently:\n",
        "\n",
        "        #Insert the profile information for a new user.\n",
        "    #     Find the profile information of a user, given their username\n",
        "    #     Update the profile information of a user, given their usrname\n",
        "    #     List all the users of the platform, sorted by username\n",
        "\n",
        "    # You can assume that usernames are unique.\n"
      ]
    },
    {
      "cell_type": "code",
      "execution_count": 2,
      "metadata": {
        "id": "TOTieh3ZdFNd"
      },
      "outputs": [],
      "source": [
        "class User:\n",
        "  def __init__(self,username,name,email):\n",
        "    self.username=username\n",
        "    self.name=name\n",
        "    self.email=email\n",
        "  \n",
        "\n",
        "\n",
        "\n",
        "  def __repr__(self):\n",
        "      return \"User(username='{}',name='{}', email='{}')\".format(self.username, self.name,self.email)\n",
        "\n",
        "  def __str__(self):\n",
        "    return self.__repr__()\n"
      ]
    },
    {
      "cell_type": "code",
      "execution_count": 3,
      "metadata": {
        "id": "rkCUVYntgs0Q"
      },
      "outputs": [],
      "source": [
        "user1=User('JohnD',\"john2gmail.com\",\"Johnny\")\n",
        "\n"
      ]
    },
    {
      "cell_type": "code",
      "execution_count": 4,
      "metadata": {
        "colab": {
          "base_uri": "https://localhost:8080/"
        },
        "id": "XORJZnPgkHZw",
        "outputId": "99e4e3d2-7665-4771-fa8d-6a05f29b4029"
      },
      "outputs": [
        {
          "output_type": "execute_result",
          "data": {
            "text/plain": [
              "User(username='JohnD',name='john2gmail.com', email='Johnny')"
            ]
          },
          "metadata": {},
          "execution_count": 4
        }
      ],
      "source": [
        "user1"
      ]
    },
    {
      "cell_type": "code",
      "execution_count": 5,
      "metadata": {
        "id": "PoPvjJXFolHt"
      },
      "outputs": [],
      "source": [
        "aakash = User('aakash', 'Aakash Rai', 'aakash@example.com')\n",
        "biraj = User('biraj', 'Biraj Das', 'biraj@example.com')\n",
        "hemanth = User('hemanth', 'Hemanth Jain', 'hemanth@example.com')\n",
        "jadhesh = User('jadhesh', 'Jadhesh Verma', 'jadhesh@example.com')\n",
        "siddhant = User('siddhant', 'Siddhant Sinha', 'siddhant@example.com')\n",
        "sonaksh = User('sonaksh', 'Sonaksh Kumar', 'sonaksh@example.com')\n",
        "vishal = User('vishal', 'Vishal Goel', 'vishal@example.com')\n",
        "    "
      ]
    },
    {
      "cell_type": "code",
      "execution_count": 6,
      "metadata": {
        "colab": {
          "base_uri": "https://localhost:8080/",
          "height": 35
        },
        "id": "39AJpKhvp4hx",
        "outputId": "253d2758-0c48-49c6-d173-c2f4b2a163fe"
      },
      "outputs": [
        {
          "output_type": "execute_result",
          "data": {
            "text/plain": [
              "'aakash@example.com'"
            ],
            "application/vnd.google.colaboratory.intrinsic+json": {
              "type": "string"
            }
          },
          "metadata": {},
          "execution_count": 6
        }
      ],
      "source": [
        "aakash.email"
      ]
    },
    {
      "cell_type": "code",
      "execution_count": 7,
      "metadata": {
        "colab": {
          "base_uri": "https://localhost:8080/"
        },
        "id": "q9416tSirF8G",
        "outputId": "e01546bb-e5ec-4d68-efa8-724cf423b34b"
      },
      "outputs": [
        {
          "output_type": "execute_result",
          "data": {
            "text/plain": [
              "False"
            ]
          },
          "metadata": {},
          "execution_count": 7
        }
      ],
      "source": [
        "'kofi' < 'Ama'"
      ]
    },
    {
      "cell_type": "code",
      "execution_count": 8,
      "metadata": {
        "id": "omPHAaZ7sEEr"
      },
      "outputs": [],
      "source": [
        "users=['aakash','biraj','hemanth','jadhesh','siddhant','sonaksh','vishal']"
      ]
    },
    {
      "cell_type": "code",
      "execution_count": 9,
      "metadata": {
        "id": "2W-srC7-siFo"
      },
      "outputs": [],
      "source": [
        "class UserDatabase:\n",
        "  def __init__(self):\n",
        "    self.users=[]\n",
        "\n",
        "  def insert(self,user):\n",
        "    pass\n",
        "\n",
        "  def find(self,username):\n",
        "\n",
        "    pass\n",
        "\n",
        "  def update(self,user):\n",
        "    pass\n",
        "\n",
        "  def list_all(self):\n",
        "    pass\n"
      ]
    },
    {
      "cell_type": "code",
      "execution_count": 10,
      "metadata": {
        "colab": {
          "base_uri": "https://localhost:8080/"
        },
        "id": "lP7aGk8otXl4",
        "outputId": "00c34697-55fe-40b9-b8f9-2f16a9ca4eb7"
      },
      "outputs": [
        {
          "output_type": "execute_result",
          "data": {
            "text/plain": [
              "['aakash', 'biraj', 'hemanth', 'jadhesh', 'siddhant', 'sonaksh', 'vishal']"
            ]
          },
          "metadata": {},
          "execution_count": 10
        }
      ],
      "source": [
        "users"
      ]
    },
    {
      "cell_type": "code",
      "execution_count": 11,
      "metadata": {
        "id": "pfkfq140uP_b"
      },
      "outputs": [],
      "source": [
        "class UserDatabase:\n",
        "    def __init__(self):\n",
        "        self.users = []\n",
        "    \n",
        "    def insert(self, user):\n",
        "        i = 0\n",
        "        while i < len(self.users):\n",
        "            if self.users[i].username > user.username:\n",
        "                break\n",
        "            i += 1\n",
        "        self.users.insert(i, user)\n",
        "    \n",
        "    def find(self, username):\n",
        "        for user in self.users:\n",
        "            if user.username == username:\n",
        "                return user\n",
        "    \n",
        "    def update(self, user):\n",
        "        target = self.find(user.username)\n",
        "        target.name, target.email = user.name, user.email\n",
        "        \n",
        "    def list_all(self):\n",
        "        return self.users"
      ]
    },
    {
      "cell_type": "code",
      "execution_count": 12,
      "metadata": {
        "id": "vmklySab4YcW"
      },
      "outputs": [],
      "source": [
        "database=UserDatabase()"
      ]
    },
    {
      "cell_type": "code",
      "execution_count": 13,
      "metadata": {
        "id": "YCyN0rTe4gXF"
      },
      "outputs": [],
      "source": [
        "user=database.find('siddhant')"
      ]
    },
    {
      "cell_type": "code",
      "execution_count": 14,
      "metadata": {
        "id": "6oRDLuTk5IEm"
      },
      "outputs": [],
      "source": [
        "user = database.find('siddhant')\n",
        "user"
      ]
    },
    {
      "cell_type": "code",
      "execution_count": 14,
      "metadata": {
        "id": "NOacUZ9p59iQ"
      },
      "outputs": [],
      "source": []
    },
    {
      "cell_type": "code",
      "execution_count": 15,
      "metadata": {
        "id": "z-Glcat05oWX"
      },
      "outputs": [],
      "source": [
        "database.insert(siddhant)"
      ]
    },
    {
      "cell_type": "code",
      "execution_count": 16,
      "metadata": {
        "colab": {
          "base_uri": "https://localhost:8080/"
        },
        "id": "b5AcDKVV5-VU",
        "outputId": "666f340b-ec8f-4e89-ee82-a20738ddfa85"
      },
      "outputs": [
        {
          "output_type": "execute_result",
          "data": {
            "text/plain": [
              "User(username='siddhant',name='Siddhant Sinha', email='siddhant@example.com')"
            ]
          },
          "metadata": {},
          "execution_count": 16
        }
      ],
      "source": [
        "user = database.find('siddhant')\n",
        "user"
      ]
    },
    {
      "cell_type": "code",
      "execution_count": 17,
      "metadata": {
        "id": "Ic8Ntu-h_Mz6"
      },
      "outputs": [],
      "source": [
        "database.insert(hemanth)\n",
        "database.insert(aakash)\n",
        "database.insert(siddhant)"
      ]
    },
    {
      "cell_type": "code",
      "execution_count": 18,
      "metadata": {
        "colab": {
          "base_uri": "https://localhost:8080/"
        },
        "id": "Cxm7R796_Ze_",
        "outputId": "6522ae59-4374-473c-d511-1e80518e2c54"
      },
      "outputs": [
        {
          "output_type": "execute_result",
          "data": {
            "text/plain": [
              "[User(username='aakash',name='Aakash Rai', email='aakash@example.com'),\n",
              " User(username='hemanth',name='Hemanth Jain', email='hemanth@example.com'),\n",
              " User(username='siddhant',name='Siddhant Sinha', email='siddhant@example.com'),\n",
              " User(username='siddhant',name='Siddhant Sinha', email='siddhant@example.com')]"
            ]
          },
          "metadata": {},
          "execution_count": 18
        }
      ],
      "source": [
        "database.list_all()"
      ]
    },
    {
      "cell_type": "code",
      "execution_count": 19,
      "metadata": {
        "id": "xPHqq4DP_okb"
      },
      "outputs": [],
      "source": [
        "database.insert(biraj)"
      ]
    },
    {
      "cell_type": "code",
      "execution_count": 21,
      "metadata": {
        "id": "87mkZTB_A23D"
      },
      "outputs": [],
      "source": [
        "class TreeNode():\n",
        "    def __init__(self, key):\n",
        "        self.key, self.left, self.right = key, None, None\n",
        "    \n",
        "    def height(self):\n",
        "        if self is None:\n",
        "            return 0\n",
        "        return 1 + max(TreeNode.height(self.left), TreeNode.height(self.right))\n",
        "    \n",
        "    def size(self):\n",
        "        if self is None:\n",
        "            return 0\n",
        "        return 1 + TreeNode.size(self.left) + TreeNode.size(self.right)\n",
        "\n",
        "    def traverse_in_order(self):\n",
        "        if self is None: \n",
        "            return []\n",
        "        return (TreeNode.traverse_in_order(self.left) + \n",
        "                [self.key] + \n",
        "                TreeNode.traverse_in_order(self.right))\n",
        "    \n",
        "    def display_keys(self, space='\\t', level=0):\n",
        "        # If the node is empty\n",
        "        if self is None:\n",
        "            print(space*level + '∅')\n",
        "            return   \n",
        "\n",
        "        # If the node is a leaf \n",
        "        if self.left is None and self.right is None:\n",
        "            print(space*level + str(self.key))\n",
        "            return\n",
        "\n",
        "        # If the node has children\n",
        "        display_keys(self.right, space, level+1)\n",
        "        print(space*level + str(self.key))\n",
        "        display_keys(self.left,space, level+1)    \n",
        "    \n",
        "    def to_tuple(self):\n",
        "        if self is None:\n",
        "            return None\n",
        "        if self.left is None and self.right is None:\n",
        "            return self.key\n",
        "        return TreeNode.to_tuple(self.left),  self.key, TreeNode.to_tuple(self.right)\n",
        "    \n",
        "    def __str__(self):\n",
        "        return \"BinaryTree <{}>\".format(self.to_tuple())\n",
        "    \n",
        "    def __repr__(self):\n",
        "        return \"BinaryTree <{}>\".format(self.to_tuple())\n",
        "    \n",
        "    @staticmethod    \n",
        "    def parse_tuple(data):\n",
        "        if data is None:\n",
        "            node = None\n",
        "        elif isinstance(data, tuple) and len(data) == 3:\n",
        "            node = TreeNode(data[1])\n",
        "            node.left = TreeNode.parse_tuple(data[0])\n",
        "            node.right = TreeNode.parse_tuple(data[2])\n",
        "        else:\n",
        "            node = TreeNode(data)\n",
        "        return node"
      ]
    },
    {
      "cell_type": "code",
      "source": [
        "tree1 = TreeNode.parse_tuple(((1, 3, None), 2, ((None, 3, 4), 5, (6, 7, 8))))"
      ],
      "metadata": {
        "id": "soZCGY9B25ce"
      },
      "execution_count": 23,
      "outputs": []
    },
    {
      "cell_type": "code",
      "source": [
        "def remove_none(nums):\n",
        "    return [x for x in nums if x is not None]\n",
        "\n",
        "def is_bst(node):\n",
        "    if node is None:\n",
        "        return True, None, None\n",
        "    \n",
        "    is_bst_l, min_l, max_l = is_bst(node.left)\n",
        "    print(\"left\",node.left)\n",
        "    print(is_bst_l, min_l, max_l )\n",
        "    is_bst_r, min_r, max_r = is_bst(node.right)\n",
        "    print(is_bst_r, min_r, max_r )\n",
        "    print(\"right\",node.right)\n",
        "    \n",
        "    is_bst_node = (is_bst_l and is_bst_r and \n",
        "              (max_l is None or node.key > max_l) and \n",
        "              (min_r is None or node.key < min_r))\n",
        "    \n",
        "    min_key = min(remove_none([min_l, node.key, min_r]))\n",
        "    max_key = max(remove_none([max_l, node.key, max_r]))\n",
        "    \n",
        "    # print(node.key, min_key, max_key, is_bst_node)\n",
        "        \n",
        "    return is_bst_node, min_key, max_key"
      ],
      "metadata": {
        "id": "Ha0ymsou3FIZ"
      },
      "execution_count": 42,
      "outputs": []
    },
    {
      "cell_type": "code",
      "source": [
        "tree1 = TreeNode.parse_tuple(((1, 3, None), 2, ((None, 3, 4), 5, (6, 7, 8))))"
      ],
      "metadata": {
        "id": "Xd-cYxGf3ViB"
      },
      "execution_count": 43,
      "outputs": []
    },
    {
      "cell_type": "code",
      "source": [
        "is_bst(tree1)"
      ],
      "metadata": {
        "id": "wNng6Tuy3YFU",
        "outputId": "4c6416fd-29f9-4988-d2ca-b0e50719e853",
        "colab": {
          "base_uri": "https://localhost:8080/"
        }
      },
      "execution_count": 44,
      "outputs": [
        {
          "output_type": "stream",
          "name": "stdout",
          "text": [
            "left None\n",
            "True None None\n",
            "True None None\n",
            "right None\n",
            "left BinaryTree <1>\n",
            "True 1 1\n",
            "True None None\n",
            "right None\n",
            "left BinaryTree <(1, 3, None)>\n",
            "True 1 3\n",
            "left None\n",
            "True None None\n",
            "left None\n",
            "True None None\n",
            "True None None\n",
            "right None\n",
            "True 4 4\n",
            "right BinaryTree <4>\n",
            "left BinaryTree <(None, 3, 4)>\n",
            "True 3 4\n",
            "left None\n",
            "True None None\n",
            "True None None\n",
            "right None\n",
            "left BinaryTree <6>\n",
            "True 6 6\n",
            "left None\n",
            "True None None\n",
            "True None None\n",
            "right None\n",
            "True 8 8\n",
            "right BinaryTree <8>\n",
            "True 6 8\n",
            "right BinaryTree <(6, 7, 8)>\n",
            "True 3 8\n",
            "right BinaryTree <((None, 3, 4), 5, (6, 7, 8))>\n"
          ]
        },
        {
          "output_type": "execute_result",
          "data": {
            "text/plain": [
              "(False, 1, 8)"
            ]
          },
          "metadata": {},
          "execution_count": 44
        }
      ]
    },
    {
      "cell_type": "code",
      "source": [
        "def remove_node(nums):\n",
        "  return [x for x in nums if x is not None]\n",
        "\n",
        "def is_bst(node):\n",
        "  if node == None:\n",
        "    return True, None,None\n",
        "\n",
        "  is_bst_l,min_l,max_l=is_bst(node.left)\n",
        "  is_bst_r,min_r,max_r = is_bst(node.right)\n",
        "  \n",
        "\n",
        "  is_bst_node=(is_bst_l and is_bst_r and (max_l is None or node.key> max_l)\n",
        "  and(min_r is None or node.k<min_r ))\n",
        "\n",
        "\n",
        "  min_key=min(remove_none([min_l,node.key,min_r]))\n",
        "  max_key=max(remove_none([max_l,node.key,max_r]))\n",
        "  \n"
      ],
      "metadata": {
        "id": "-X5ZZT3iEq9O"
      },
      "execution_count": null,
      "outputs": []
    },
    {
      "cell_type": "code",
      "source": [
        "def remove_node(nums):\n",
        "  return [x for x in nums if x is not None]\n",
        "\n",
        "\n",
        "def is_bst(node):\n",
        "  if node==None:\n",
        "    return None\n",
        "\n",
        "  is_bst_l,min_l,max_l=is_bst(node.left)\n",
        "  is_bst_r,min_r,max_r=is_bst(node.right) \n",
        "\n",
        "\n",
        "  is_bst_node=(is_bst_l and is_bst_r and (max_l is None or node.key> max_l) and \n",
        "               (min_r is None or node.key<min_r))\n",
        "  \n",
        "  main_key=min(remove_none([min_1,node.key,min_r]))\n",
        "  max_key=max(remove_none([max-l,node.key,max_r]))\n"
      ],
      "metadata": {
        "id": "Is9FBEf3IZZo"
      },
      "execution_count": null,
      "outputs": []
    }
  ],
  "metadata": {
    "colab": {
      "provenance": [],
      "authorship_tag": "ABX9TyO6LhFO9S9LWNhkOaUAFrUQ",
      "include_colab_link": true
    },
    "kernelspec": {
      "display_name": "Python 3",
      "name": "python3"
    },
    "language_info": {
      "name": "python"
    }
  },
  "nbformat": 4,
  "nbformat_minor": 0
}