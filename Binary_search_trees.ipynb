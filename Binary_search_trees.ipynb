{
  "cells": [
    {
      "cell_type": "markdown",
      "metadata": {
        "id": "view-in-github",
        "colab_type": "text"
      },
      "source": [
        "<a href=\"https://colab.research.google.com/github/Bizor1/Data_structures-and-Algorithms/blob/main/Binary_search_trees.ipynb\" target=\"_parent\"><img src=\"https://colab.research.google.com/assets/colab-badge.svg\" alt=\"Open In Colab\"/></a>"
      ]
    },
    {
      "cell_type": "code",
      "execution_count": null,
      "metadata": {
        "colab": {
          "base_uri": "https://localhost:8080/",
          "height": 167
        },
        "id": "Rcg9Xd15cCzE",
        "outputId": "c4acb58f-1400-4754-b88d-e9becf4ecdad"
      },
      "outputs": [
        {
          "ename": "SyntaxError",
          "evalue": "ignored",
          "output_type": "error",
          "traceback": [
            "\u001b[0;36m  File \u001b[0;32m\"<ipython-input-1-c88069d456cf>\"\u001b[0;36m, line \u001b[0;32m1\u001b[0m\n\u001b[0;31m    QUESTION 1: As a senior backend engineer at Jovian, you are tasked with developing a fast in-memory data structure to manage profile information (username, name and email) for 100 million users. It should allow the following operations to be performed efficiently:\u001b[0m\n\u001b[0m             ^\u001b[0m\n\u001b[0;31mSyntaxError\u001b[0m\u001b[0;31m:\u001b[0m invalid syntax\n"
          ]
        }
      ],
      "source": [
        "\n",
        "\n",
        "    #QUESTION 1: As a senior backend engineer at Jovian, you are tasked with developing a fast in-memory data structure to manage profile information (username, name and email) for 100 million users. It should allow the following operations to be performed efficiently:\n",
        "\n",
        "        #Insert the profile information for a new user.\n",
        "    #     Find the profile information of a user, given their username\n",
        "    #     Update the profile information of a user, given their usrname\n",
        "    #     List all the users of the platform, sorted by username\n",
        "\n",
        "    # You can assume that usernames are unique.\n"
      ]
    },
    {
      "cell_type": "code",
      "execution_count": null,
      "metadata": {
        "id": "TOTieh3ZdFNd"
      },
      "outputs": [],
      "source": [
        "class User:\n",
        "  def __init__(self,username,name,email):\n",
        "    self.username=username\n",
        "    self.name=name\n",
        "    self.email=email\n",
        "  \n",
        "\n",
        "\n",
        "\n",
        "  def __repr__(self):\n",
        "      return \"User(username='{}',name='{}', email='{}')\".format(self.username, self.name,self.email)\n",
        "\n",
        "  def __str__(self):\n",
        "    return self.__repr__()\n"
      ]
    },
    {
      "cell_type": "code",
      "execution_count": null,
      "metadata": {
        "id": "rkCUVYntgs0Q"
      },
      "outputs": [],
      "source": [
        "user1=User('JohnD',\"john2gmail.com\",\"Johnny\")\n",
        "\n"
      ]
    },
    {
      "cell_type": "code",
      "execution_count": null,
      "metadata": {
        "colab": {
          "base_uri": "https://localhost:8080/"
        },
        "id": "XORJZnPgkHZw",
        "outputId": "d71483e9-cf6e-4ee4-a7a8-ffa02fb33596"
      },
      "outputs": [
        {
          "data": {
            "text/plain": [
              "User(username='JohnD',name='john2gmail.com', email='Johnny')"
            ]
          },
          "execution_count": 35,
          "metadata": {},
          "output_type": "execute_result"
        }
      ],
      "source": [
        "user1"
      ]
    },
    {
      "cell_type": "code",
      "execution_count": null,
      "metadata": {
        "id": "PoPvjJXFolHt"
      },
      "outputs": [],
      "source": [
        "aakash = User('aakash', 'Aakash Rai', 'aakash@example.com')\n",
        "biraj = User('biraj', 'Biraj Das', 'biraj@example.com')\n",
        "hemanth = User('hemanth', 'Hemanth Jain', 'hemanth@example.com')\n",
        "jadhesh = User('jadhesh', 'Jadhesh Verma', 'jadhesh@example.com')\n",
        "siddhant = User('siddhant', 'Siddhant Sinha', 'siddhant@example.com')\n",
        "sonaksh = User('sonaksh', 'Sonaksh Kumar', 'sonaksh@example.com')\n",
        "vishal = User('vishal', 'Vishal Goel', 'vishal@example.com')\n",
        "    "
      ]
    },
    {
      "cell_type": "code",
      "execution_count": null,
      "metadata": {
        "colab": {
          "base_uri": "https://localhost:8080/",
          "height": 35
        },
        "id": "39AJpKhvp4hx",
        "outputId": "d7f3b389-5ea1-4389-9e7e-e5f3c4f201cf"
      },
      "outputs": [
        {
          "data": {
            "application/vnd.google.colaboratory.intrinsic+json": {
              "type": "string"
            },
            "text/plain": [
              "'aakash@example.com'"
            ]
          },
          "execution_count": 62,
          "metadata": {},
          "output_type": "execute_result"
        }
      ],
      "source": [
        "aakash.email"
      ]
    },
    {
      "cell_type": "code",
      "execution_count": null,
      "metadata": {
        "colab": {
          "base_uri": "https://localhost:8080/"
        },
        "id": "q9416tSirF8G",
        "outputId": "494a4c44-f9f1-46ae-8c46-ae11e1b14c2d"
      },
      "outputs": [
        {
          "data": {
            "text/plain": [
              "False"
            ]
          },
          "execution_count": 45,
          "metadata": {},
          "output_type": "execute_result"
        }
      ],
      "source": [
        "'kofi' < 'Ama'"
      ]
    },
    {
      "cell_type": "code",
      "execution_count": null,
      "metadata": {
        "id": "omPHAaZ7sEEr"
      },
      "outputs": [],
      "source": [
        "users=['aakash','biraj','hemanth','jadhesh','siddhant','sonaksh','vishal']"
      ]
    },
    {
      "cell_type": "code",
      "execution_count": null,
      "metadata": {
        "id": "2W-srC7-siFo"
      },
      "outputs": [],
      "source": [
        "class UserDatabase:\n",
        "  def __init__(self):\n",
        "    self.users=[]\n",
        "\n",
        "  def insert(self,user):\n",
        "    pass\n",
        "\n",
        "  def find(self,username):\n",
        "\n",
        "    pass\n",
        "\n",
        "  def update(self,user):\n",
        "    pass\n",
        "\n",
        "  def list_all(self):\n",
        "    pass\n"
      ]
    },
    {
      "cell_type": "code",
      "execution_count": null,
      "metadata": {
        "colab": {
          "base_uri": "https://localhost:8080/"
        },
        "id": "lP7aGk8otXl4",
        "outputId": "4d2df438-23ae-416c-c21d-8b59ab908dea"
      },
      "outputs": [
        {
          "data": {
            "text/plain": [
              "['aakash', 'biraj', 'hemanth', 'jadhesh', 'siddhant', 'sonaksh', 'vishal']"
            ]
          },
          "execution_count": 65,
          "metadata": {},
          "output_type": "execute_result"
        }
      ],
      "source": [
        "users"
      ]
    },
    {
      "cell_type": "code",
      "execution_count": null,
      "metadata": {
        "id": "pfkfq140uP_b"
      },
      "outputs": [],
      "source": [
        "class UserDatabase:\n",
        "    def __init__(self):\n",
        "        self.users = []\n",
        "    \n",
        "    def insert(self, user):\n",
        "        i = 0\n",
        "        while i < len(self.users):\n",
        "            if self.users[i].username > user.username:\n",
        "                break\n",
        "            i += 1\n",
        "        self.users.insert(i, user)\n",
        "    \n",
        "    def find(self, username):\n",
        "        for user in self.users:\n",
        "            if user.username == username:\n",
        "                return user\n",
        "    \n",
        "    def update(self, user):\n",
        "        target = self.find(user.username)\n",
        "        target.name, target.email = user.name, user.email\n",
        "        \n",
        "    def list_all(self):\n",
        "        return self.users"
      ]
    },
    {
      "cell_type": "code",
      "execution_count": null,
      "metadata": {
        "id": "vmklySab4YcW"
      },
      "outputs": [],
      "source": [
        "database=UserDatabase()"
      ]
    },
    {
      "cell_type": "code",
      "execution_count": null,
      "metadata": {
        "id": "YCyN0rTe4gXF"
      },
      "outputs": [],
      "source": [
        "user=database.find('siddhant')"
      ]
    },
    {
      "cell_type": "code",
      "execution_count": null,
      "metadata": {
        "id": "6oRDLuTk5IEm"
      },
      "outputs": [],
      "source": [
        "user = database.find('siddhant')\n",
        "user"
      ]
    },
    {
      "cell_type": "code",
      "execution_count": null,
      "metadata": {
        "id": "NOacUZ9p59iQ"
      },
      "outputs": [],
      "source": []
    },
    {
      "cell_type": "code",
      "execution_count": null,
      "metadata": {
        "id": "z-Glcat05oWX"
      },
      "outputs": [],
      "source": [
        "database.insert(siddhant)"
      ]
    },
    {
      "cell_type": "code",
      "execution_count": null,
      "metadata": {
        "colab": {
          "base_uri": "https://localhost:8080/"
        },
        "id": "b5AcDKVV5-VU",
        "outputId": "b6c38717-f771-4209-d1fd-7b528343ce1d"
      },
      "outputs": [
        {
          "data": {
            "text/plain": [
              "User(username='siddhant',name='Siddhant Sinha', email='siddhant@example.com')"
            ]
          },
          "execution_count": 77,
          "metadata": {},
          "output_type": "execute_result"
        }
      ],
      "source": [
        "user = database.find('siddhant')\n",
        "user"
      ]
    },
    {
      "cell_type": "code",
      "execution_count": null,
      "metadata": {
        "id": "Ic8Ntu-h_Mz6"
      },
      "outputs": [],
      "source": [
        "database.insert(hemanth)\n",
        "database.insert(aakash)\n",
        "database.insert(siddhant)"
      ]
    },
    {
      "cell_type": "code",
      "execution_count": null,
      "metadata": {
        "colab": {
          "base_uri": "https://localhost:8080/"
        },
        "id": "Cxm7R796_Ze_",
        "outputId": "ff5348c9-dcb2-456c-9e10-5669f3e0d30d"
      },
      "outputs": [
        {
          "data": {
            "text/plain": [
              "[User(username='aakash',name='Aakash Rai', email='aakash@example.com'),\n",
              " User(username='hemanth',name='Hemanth Jain', email='hemanth@example.com'),\n",
              " User(username='siddhant',name='Siddhant Sinha', email='siddhant@example.com'),\n",
              " User(username='siddhant',name='Siddhant Sinha', email='siddhant@example.com')]"
            ]
          },
          "execution_count": 79,
          "metadata": {},
          "output_type": "execute_result"
        }
      ],
      "source": [
        "database.list_all()"
      ]
    },
    {
      "cell_type": "code",
      "execution_count": null,
      "metadata": {
        "id": "xPHqq4DP_okb"
      },
      "outputs": [],
      "source": [
        "database.insert(biraj)"
      ]
    },
    {
      "cell_type": "code",
      "execution_count": null,
      "metadata": {
        "colab": {
          "background_save": true
        },
        "id": "87mkZTB_A23D",
        "outputId": "4fea17e5-33c4-4270-cdaa-2dd84db24b40"
      },
      "outputs": [
        {
          "name": "stdout",
          "output_type": "stream",
          "text": [
            "CPU times: user 27min 2s, sys: 1.43 s, total: 27min 3s\n",
            "Wall time: 27min 16s\n"
          ]
        }
      ],
      "source": []
    }
  ],
  "metadata": {
    "colab": {
      "provenance": [],
      "authorship_tag": "ABX9TyM8VwUmY7VnlbaT4LrVZj7j",
      "include_colab_link": true
    },
    "kernelspec": {
      "display_name": "Python 3",
      "name": "python3"
    },
    "language_info": {
      "name": "python"
    }
  },
  "nbformat": 4,
  "nbformat_minor": 0
}