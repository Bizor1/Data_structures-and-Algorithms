{
  "nbformat": 4,
  "nbformat_minor": 0,
  "metadata": {
    "colab": {
      "provenance": [],
      "authorship_tag": "ABX9TyMHHR8EC3jnUavjzscnI8x9",
      "include_colab_link": true
    },
    "kernelspec": {
      "name": "python3",
      "display_name": "Python 3"
    },
    "language_info": {
      "name": "python"
    }
  },
  "cells": [
    {
      "cell_type": "markdown",
      "metadata": {
        "id": "view-in-github",
        "colab_type": "text"
      },
      "source": [
        "<a href=\"https://colab.research.google.com/github/Bizor1/Data_structures-and-Algorithms/blob/main/HashTables.ipynb\" target=\"_parent\"><img src=\"https://colab.research.google.com/assets/colab-badge.svg\" alt=\"Open In Colab\"/></a>"
      ]
    },
    {
      "cell_type": "code",
      "execution_count": 2,
      "metadata": {
        "id": "sJBA8BJoUKR4"
      },
      "outputs": [],
      "source": [
        "class HashTable:\n",
        "  def insert(self,key,value):\n",
        "    pass\n",
        "\n",
        "  def find(self,key,value):\n",
        "\n",
        "    pass\n",
        "\n",
        "  def update(self,key,value):\n",
        "    pass\n",
        "\n",
        "  def list_all(self):\n",
        "    pass"
      ]
    },
    {
      "cell_type": "code",
      "source": [
        "MAX_HASH_TABLE_SIZE= 4096"
      ],
      "metadata": {
        "id": "0J7pFUl8U5xf"
      },
      "execution_count": 3,
      "outputs": []
    },
    {
      "cell_type": "code",
      "source": [
        "data_list=[None for x in range(MAX_HASH_TABLE_SIZE)]"
      ],
      "metadata": {
        "id": "33jdgX_RVdes"
      },
      "execution_count": 4,
      "outputs": []
    },
    {
      "cell_type": "code",
      "source": [
        "len(data_list)"
      ],
      "metadata": {
        "colab": {
          "base_uri": "https://localhost:8080/"
        },
        "id": "wDmfe08oXF28",
        "outputId": "434f66fa-ed79-4eb1-d18d-2b363acaece9"
      },
      "execution_count": 5,
      "outputs": [
        {
          "output_type": "execute_result",
          "data": {
            "text/plain": [
              "4096"
            ]
          },
          "metadata": {},
          "execution_count": 5
        }
      ]
    },
    {
      "cell_type": "code",
      "source": [
        "print(data_list[10])"
      ],
      "metadata": {
        "colab": {
          "base_uri": "https://localhost:8080/"
        },
        "id": "pEfB9A1PXLTc",
        "outputId": "640d87a4-4be4-48f4-8306-436edaa17330"
      },
      "execution_count": 7,
      "outputs": [
        {
          "output_type": "stream",
          "name": "stdout",
          "text": [
            "None\n"
          ]
        }
      ]
    },
    {
      "cell_type": "code",
      "source": [
        "data_list[199]==None"
      ],
      "metadata": {
        "colab": {
          "base_uri": "https://localhost:8080/"
        },
        "id": "xXTHl6SqXvSd",
        "outputId": "bd1d9a8b-1ab0-4732-941b-d20db3aea855"
      },
      "execution_count": 8,
      "outputs": [
        {
          "output_type": "execute_result",
          "data": {
            "text/plain": [
              "True"
            ]
          },
          "metadata": {},
          "execution_count": 8
        }
      ]
    },
    {
      "cell_type": "code",
      "source": [
        "def get_index(data,a_string):\n",
        "  result = 0\n",
        "  if a_string is None:\n",
        "    result = 0\n",
        "  for character in a_string:\n",
        "    a_number=ord(character)\n",
        "    result +=a_number\n",
        "\n",
        "  list_index=result % len(data_list)\n",
        "\n",
        "  return list_index\n",
        "\n",
        "\n",
        "\n",
        "  "
      ],
      "metadata": {
        "id": "_R2GzGtJYt3S"
      },
      "execution_count": 13,
      "outputs": []
    },
    {
      "cell_type": "code",
      "source": [
        "get_index(data_list, 'Don O Leary') == 941"
      ],
      "metadata": {
        "colab": {
          "base_uri": "https://localhost:8080/"
        },
        "id": "hiSohJo5cPyP",
        "outputId": "92ce171f-0791-4e6a-8da4-a8c9b3df5c94"
      },
      "execution_count": 16,
      "outputs": [
        {
          "output_type": "execute_result",
          "data": {
            "text/plain": [
              "True"
            ]
          },
          "metadata": {},
          "execution_count": 16
        }
      ]
    },
    {
      "cell_type": "code",
      "source": [
        "ord('a')"
      ],
      "metadata": {
        "colab": {
          "base_uri": "https://localhost:8080/"
        },
        "id": "foBj7_uJcWuA",
        "outputId": "fb34773b-eb72-486a-ffb2-b7aac802ff47"
      },
      "execution_count": 17,
      "outputs": [
        {
          "output_type": "execute_result",
          "data": {
            "text/plain": [
              "97"
            ]
          },
          "metadata": {},
          "execution_count": 17
        }
      ]
    },
    {
      "cell_type": "code",
      "source": [],
      "metadata": {
        "id": "GrB2WMLEcmHl"
      },
      "execution_count": null,
      "outputs": []
    },
    {
      "cell_type": "code",
      "source": [
        "get_index(data_list, '') == 0"
      ],
      "metadata": {
        "colab": {
          "base_uri": "https://localhost:8080/"
        },
        "id": "3xX4iLrgbkcI",
        "outputId": "d58b88a0-dd05-43b6-8995-ea280c278f9a"
      },
      "execution_count": 14,
      "outputs": [
        {
          "output_type": "execute_result",
          "data": {
            "text/plain": [
              "True"
            ]
          },
          "metadata": {},
          "execution_count": 14
        }
      ]
    },
    {
      "cell_type": "code",
      "source": [
        "get_index(data_list, 'Aakash') == 585"
      ],
      "metadata": {
        "colab": {
          "base_uri": "https://localhost:8080/"
        },
        "id": "Olwd9xMccKwB",
        "outputId": "ec074936-29e2-468f-9d39-4c6a3e78c63a"
      },
      "execution_count": 15,
      "outputs": [
        {
          "output_type": "execute_result",
          "data": {
            "text/plain": [
              "True"
            ]
          },
          "metadata": {},
          "execution_count": 15
        }
      ]
    },
    {
      "cell_type": "code",
      "source": [
        "def get_index(data,a_string):\n",
        "  result=0\n",
        "  if a_string is None:\n",
        "    result = 0\n",
        "  \n",
        "  for character in a_string:\n",
        "    char_num=ord(character)\n",
        "    result+=char_num\n",
        "  list_idx=result % len(data)\n",
        "\n",
        "  return list_idx"
      ],
      "metadata": {
        "id": "kjGL4rePcowQ"
      },
      "execution_count": null,
      "outputs": []
    },
    {
      "cell_type": "code",
      "source": [
        "key,value='Aakash','7878787878'"
      ],
      "metadata": {
        "id": "vl-hyl2OfryD"
      },
      "execution_count": 18,
      "outputs": []
    },
    {
      "cell_type": "code",
      "source": [
        "key"
      ],
      "metadata": {
        "colab": {
          "base_uri": "https://localhost:8080/",
          "height": 35
        },
        "id": "IlHZglGefyvI",
        "outputId": "0279f35f-544f-4541-f888-6b4089d8753d"
      },
      "execution_count": 19,
      "outputs": [
        {
          "output_type": "execute_result",
          "data": {
            "text/plain": [
              "'Aakash'"
            ],
            "application/vnd.google.colaboratory.intrinsic+json": {
              "type": "string"
            }
          },
          "metadata": {},
          "execution_count": 19
        }
      ]
    },
    {
      "cell_type": "code",
      "source": [
        "idx=get_index(data_list,key)\n",
        "idx"
      ],
      "metadata": {
        "colab": {
          "base_uri": "https://localhost:8080/"
        },
        "id": "LW824guUeOne",
        "outputId": "e1155e51-a07d-45d1-edd1-ea7072610d5e"
      },
      "execution_count": 21,
      "outputs": [
        {
          "output_type": "execute_result",
          "data": {
            "text/plain": [
              "585"
            ]
          },
          "metadata": {},
          "execution_count": 21
        }
      ]
    },
    {
      "cell_type": "code",
      "source": [
        "data_list[idx]= (key,value)"
      ],
      "metadata": {
        "id": "Vb46qa4Uf3UD"
      },
      "execution_count": 22,
      "outputs": []
    },
    {
      "cell_type": "code",
      "source": [
        "key,value=data_list[idx]\n",
        "value"
      ],
      "metadata": {
        "colab": {
          "base_uri": "https://localhost:8080/",
          "height": 35
        },
        "id": "klvAFDHpghFN",
        "outputId": "e40acb66-6725-4fb7-e2bb-246d028d37b8"
      },
      "execution_count": 24,
      "outputs": [
        {
          "output_type": "execute_result",
          "data": {
            "text/plain": [
              "'7878787878'"
            ],
            "application/vnd.google.colaboratory.intrinsic+json": {
              "type": "string"
            }
          },
          "metadata": {},
          "execution_count": 24
        }
      ]
    },
    {
      "cell_type": "code",
      "source": [
        "pairs=[kv for kv in data_list if kv is not None]"
      ],
      "metadata": {
        "id": "OV6lWxySjIcd"
      },
      "execution_count": 30,
      "outputs": []
    },
    {
      "cell_type": "code",
      "source": [
        "pairs\n"
      ],
      "metadata": {
        "colab": {
          "base_uri": "https://localhost:8080/"
        },
        "id": "2BU26-_2jQhD",
        "outputId": "97bea84c-e118-4078-9ab7-9b4d24e44ab2"
      },
      "execution_count": 31,
      "outputs": [
        {
          "output_type": "execute_result",
          "data": {
            "text/plain": [
              "[('Aakash', '7878787878')]"
            ]
          },
          "metadata": {},
          "execution_count": 31
        }
      ]
    },
    {
      "cell_type": "code",
      "source": [
        "class BasicHashTable:\n",
        "  def __init__(self,max_size=MAX_HASH_TABLE_SIZE ):\n",
        "    self.data_list=[None for x in range(max_size)]\n",
        "\n",
        "  def insert(self,key,value):\n",
        "    idx=get_index(self.data_list,key)\n",
        "\n",
        "    self.data_list[idx]=(key,value)\n",
        "\n",
        "\n",
        "  def find(self,key):\n",
        "    idx=get_index(self.data_list,key)\n",
        "    print(idx)\n",
        "\n",
        "    kv=self.data_list[idx]\n",
        "    print(kv)\n",
        "\n",
        "    if kv is None:\n",
        "      return None\n",
        "    else:\n",
        "      key,value =kv\n",
        "      return value\n",
        "\n",
        "\n",
        "  def update(self,key,value):\n",
        "    idx=get_index(self.data_list,key)\n",
        "\n",
        "    self.data_list[idx]=key,value\n",
        "\n",
        "  def list_all(self):\n",
        "    return [kv[0] for kv in self.data_list if kv is not None]\n",
        "\n",
        "\n",
        "\n",
        "\n"
      ],
      "metadata": {
        "id": "A4vG10Zflusz"
      },
      "execution_count": 52,
      "outputs": []
    },
    {
      "cell_type": "code",
      "source": [
        "basic_table = BasicHashTable(max_size=1024)\n",
        "len(basic_table.data_list) == 1024"
      ],
      "metadata": {
        "colab": {
          "base_uri": "https://localhost:8080/"
        },
        "id": "e-qDEcqHvb6V",
        "outputId": "de1dfcf4-8780-4a76-85fc-12fe54dec33f"
      },
      "execution_count": 53,
      "outputs": [
        {
          "output_type": "execute_result",
          "data": {
            "text/plain": [
              "True"
            ]
          },
          "metadata": {},
          "execution_count": 53
        }
      ]
    },
    {
      "cell_type": "code",
      "source": [
        "# Insert some values\n",
        "basic_table.insert('Aakash', '9999999999')\n",
        "basic_table.insert('Hemanth', '8888888888')\n",
        "\n",
        "# Find a value\n",
        "basic_table.find('Hemanth') == '8888888888'"
      ],
      "metadata": {
        "colab": {
          "base_uri": "https://localhost:8080/"
        },
        "id": "zy3bpNzXvdtn",
        "outputId": "dc142a86-0607-4911-a32c-001d083befde"
      },
      "execution_count": 54,
      "outputs": [
        {
          "output_type": "stream",
          "name": "stdout",
          "text": [
            "709\n",
            "('Hemanth', '8888888888')\n"
          ]
        },
        {
          "output_type": "execute_result",
          "data": {
            "text/plain": [
              "True"
            ]
          },
          "metadata": {},
          "execution_count": 54
        }
      ]
    },
    {
      "cell_type": "code",
      "source": [
        "# Update a value\n",
        "basic_table.update('Aakash', '7777777777')\n",
        "\n",
        "# Check the updated value\n",
        "basic_table.find('Aakash') == '7777777777'"
      ],
      "metadata": {
        "colab": {
          "base_uri": "https://localhost:8080/"
        },
        "id": "EX_CI1eUvlnw",
        "outputId": "4f4f5131-e506-41db-ac17-21df3809f856"
      },
      "execution_count": 55,
      "outputs": [
        {
          "output_type": "stream",
          "name": "stdout",
          "text": [
            "585\n",
            "('Aakash', '7777777777')\n"
          ]
        },
        {
          "output_type": "execute_result",
          "data": {
            "text/plain": [
              "True"
            ]
          },
          "metadata": {},
          "execution_count": 55
        }
      ]
    },
    {
      "cell_type": "code",
      "source": [],
      "metadata": {
        "id": "gY47dxoU2Aom"
      },
      "execution_count": null,
      "outputs": []
    },
    {
      "cell_type": "code",
      "source": [
        "basic_table.list_all() == ['Aakash', 'Hemanth']"
      ],
      "metadata": {
        "colab": {
          "base_uri": "https://localhost:8080/"
        },
        "id": "c60keHAJzObL",
        "outputId": "29f04ae3-033c-4772-8fbe-faf8489c57e6"
      },
      "execution_count": 57,
      "outputs": [
        {
          "output_type": "execute_result",
          "data": {
            "text/plain": [
              "True"
            ]
          },
          "metadata": {},
          "execution_count": 57
        }
      ]
    },
    {
      "cell_type": "code",
      "source": [
        "def get_valid_index(data_list,key):\n",
        "  idx= get_index(data_list,key)\n",
        "\n",
        "  while True:\n",
        "    kv = data_list[idx]\n",
        "    if kv is None:\n",
        "      return idx\n",
        "    \n",
        "    k,v=kv\n",
        "    if k==key:\n",
        "      return idx\n",
        "\n",
        "    idx +=1\n",
        "\n",
        "    if idx==len(data_list):\n",
        "      idx=0"
      ],
      "metadata": {
        "id": "5--wdM_-2Bk6"
      },
      "execution_count": 59,
      "outputs": []
    },
    {
      "cell_type": "code",
      "source": [
        "data_list2=[None]* MAX_HASH_TABLE_SIZE\n",
        "\n",
        "get_valid_index(data_list2,'listen')==655"
      ],
      "metadata": {
        "colab": {
          "base_uri": "https://localhost:8080/"
        },
        "id": "_xyDcXM-6Z4S",
        "outputId": "6cb9745d-79c7-40f3-9b7e-d7b6ec877c37"
      },
      "execution_count": 60,
      "outputs": [
        {
          "output_type": "execute_result",
          "data": {
            "text/plain": [
              "True"
            ]
          },
          "metadata": {},
          "execution_count": 60
        }
      ]
    },
    {
      "cell_type": "code",
      "source": [
        "data_list2[get_index(data_list2,'listen')]=('listen',99)\n",
        "\n",
        "get_valid_index(data_list2,'silent')==656"
      ],
      "metadata": {
        "colab": {
          "base_uri": "https://localhost:8080/"
        },
        "id": "YX8WPL2x7A9Q",
        "outputId": "3444a95f-24dd-41f9-dc07-cefa3d76b7b7"
      },
      "execution_count": 61,
      "outputs": [
        {
          "output_type": "execute_result",
          "data": {
            "text/plain": [
              "True"
            ]
          },
          "metadata": {},
          "execution_count": 61
        }
      ]
    },
    {
      "cell_type": "code",
      "source": [
        "class ProbingHashTable:\n",
        "  def __init__(self,max_size=MAX_HASH_TABLE_SIZE):\n",
        "    self.data_list=[None for i in range(MAX_HASH_TABLE_SIZE)]\n",
        "\n",
        "    def insert(self,key,value):\n",
        "      idx=get_index(self.data_list,key)\n",
        "\n",
        "      self.data_list[idx]=key,value\n",
        "\n",
        "\n",
        "    def find(key):\n",
        "\n",
        "      idx=get_valid_index(self.data_list,key)\n",
        "\n",
        "      kv=self.data_list[idx]\n",
        "      \n",
        "      if key is None:\n",
        "        return None\n",
        "      else:\n",
        "        return kv[1]\n",
        "\n",
        "    def update(self,key,value):\n",
        "      idx=get_valid_index(self.data_list,key)\n",
        "\n",
        "      self.data_list[idx]=key,value\n",
        "\n",
        "    def list_all(self):\n",
        "      return [kv[0] for kv in self.data_list if kv is not None]\n",
        "\n",
        "\n",
        "\n",
        "\n"
      ],
      "metadata": {
        "id": "Lfp8EqkLGwpr"
      },
      "execution_count": 62,
      "outputs": []
    },
    {
      "cell_type": "code",
      "source": [
        "probing_table=ProbingHashTable()\n",
        "\n",
        "probing_table.insert('listen',99)\n",
        "\n",
        "probing_table.find('listen')==99"
      ],
      "metadata": {
        "colab": {
          "base_uri": "https://localhost:8080/",
          "height": 237
        },
        "id": "l6I6B6JlL25o",
        "outputId": "f878057f-052e-4f26-da53-fbf43adae39b"
      },
      "execution_count": 63,
      "outputs": [
        {
          "output_type": "error",
          "ename": "AttributeError",
          "evalue": "ignored",
          "traceback": [
            "\u001b[0;31m---------------------------------------------------------------------------\u001b[0m",
            "\u001b[0;31mAttributeError\u001b[0m                            Traceback (most recent call last)",
            "\u001b[0;32m<ipython-input-63-c1c46319bd1b>\u001b[0m in \u001b[0;36m<cell line: 3>\u001b[0;34m()\u001b[0m\n\u001b[1;32m      1\u001b[0m \u001b[0mprobing_table\u001b[0m\u001b[0;34m=\u001b[0m\u001b[0mProbingHashTable\u001b[0m\u001b[0;34m(\u001b[0m\u001b[0;34m)\u001b[0m\u001b[0;34m\u001b[0m\u001b[0;34m\u001b[0m\u001b[0m\n\u001b[1;32m      2\u001b[0m \u001b[0;34m\u001b[0m\u001b[0m\n\u001b[0;32m----> 3\u001b[0;31m \u001b[0mprobing_table\u001b[0m\u001b[0;34m.\u001b[0m\u001b[0minsert\u001b[0m\u001b[0;34m(\u001b[0m\u001b[0;34m'listen'\u001b[0m\u001b[0;34m,\u001b[0m\u001b[0;36m99\u001b[0m\u001b[0;34m)\u001b[0m\u001b[0;34m\u001b[0m\u001b[0;34m\u001b[0m\u001b[0m\n\u001b[0m\u001b[1;32m      4\u001b[0m \u001b[0;34m\u001b[0m\u001b[0m\n\u001b[1;32m      5\u001b[0m \u001b[0mprobing_table\u001b[0m\u001b[0;34m.\u001b[0m\u001b[0mfind\u001b[0m\u001b[0;34m(\u001b[0m\u001b[0;34m'listen'\u001b[0m\u001b[0;34m)\u001b[0m\u001b[0;34m==\u001b[0m\u001b[0;36m99\u001b[0m\u001b[0;34m\u001b[0m\u001b[0;34m\u001b[0m\u001b[0m\n",
            "\u001b[0;31mAttributeError\u001b[0m: 'ProbingHashTable' object has no attribute 'insert'"
          ]
        }
      ]
    }
  ]
}