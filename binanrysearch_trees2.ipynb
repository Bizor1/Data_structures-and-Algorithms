{
  "nbformat": 4,
  "nbformat_minor": 0,
  "metadata": {
    "colab": {
      "provenance": [],
      "authorship_tag": "ABX9TyOYSagVLvMyrbo2hncFFACw",
      "include_colab_link": true
    },
    "kernelspec": {
      "name": "python3",
      "display_name": "Python 3"
    },
    "language_info": {
      "name": "python"
    }
  },
  "cells": [
    {
      "cell_type": "markdown",
      "metadata": {
        "id": "view-in-github",
        "colab_type": "text"
      },
      "source": [
        "<a href=\"https://colab.research.google.com/github/Bizor1/Data_structures-and-Algorithms/blob/main/binanrysearch_trees2.ipynb\" target=\"_parent\"><img src=\"https://colab.research.google.com/assets/colab-badge.svg\" alt=\"Open In Colab\"/></a>"
      ]
    },
    {
      "cell_type": "code",
      "execution_count": 4,
      "metadata": {
        "id": "Z6IXYjyh2dbE"
      },
      "outputs": [],
      "source": [
        "class User:\n",
        "  def __init__(self,username,name,mail):\n",
        "    self.username=username\n",
        "    self.name=name\n",
        "    self.mail=mail\n",
        "\n",
        "  def __repr__(self):\n",
        "      return \"User(username='{}', name='{}', email='{}')\".format(self.username, self.name, self.mail)\n",
        "\n",
        "  def ___str__(self):\n",
        "    return self.__repr__()\n",
        "\n",
        "\n",
        "\n",
        "\n"
      ]
    },
    {
      "cell_type": "code",
      "source": [
        "user1=User('Johnd','jOHN doe','jd@gmail.com')\n",
        "user1"
      ],
      "metadata": {
        "colab": {
          "base_uri": "https://localhost:8080/"
        },
        "id": "dHC6SI-U7-fa",
        "outputId": "6954ef82-bce3-44bc-e8b5-670fcb2a3346"
      },
      "execution_count": 5,
      "outputs": [
        {
          "output_type": "execute_result",
          "data": {
            "text/plain": [
              "User(username='Johnd', name='jOHN doe', email='jd@gmail.com')"
            ]
          },
          "metadata": {},
          "execution_count": 5
        }
      ]
    },
    {
      "cell_type": "code",
      "source": [
        "user1"
      ],
      "metadata": {
        "colab": {
          "base_uri": "https://localhost:8080/"
        },
        "id": "-ra8lJnl8NAx",
        "outputId": "2814745d-7e62-4206-8e8e-5a97540d3fe0"
      },
      "execution_count": 6,
      "outputs": [
        {
          "output_type": "execute_result",
          "data": {
            "text/plain": [
              "User(username='Johnd', name='jOHN doe', email='jd@gmail.com')"
            ]
          },
          "metadata": {},
          "execution_count": 6
        }
      ]
    },
    {
      "cell_type": "code",
      "source": [
        "class UserDatabase:\n",
        "  def insert(self,user):\n",
        "    pass\n",
        "\n",
        "  def find(self,username):\n",
        "    pass\n",
        "\n",
        "  def update(self,user):\n",
        "    pass\n",
        "  \n",
        "  def list_all():\n",
        "    pass"
      ],
      "metadata": {
        "id": "gOG40wqH-aDy"
      },
      "execution_count": 7,
      "outputs": []
    },
    {
      "cell_type": "code",
      "source": [
        "aakash = User('aakash', 'Aakash Rai', 'aakash@example.com')\n",
        "biraj = User('biraj', 'Biraj Das', 'biraj@example.com')\n",
        "hemanth = User('hemanth', 'Hemanth Jain', 'hemanth@example.com')\n",
        "jadhesh = User('jadhesh', 'Jadhesh Verma', 'jadhesh@example.com')\n",
        "siddhant = User('siddhant', 'Siddhant Sinha', 'siddhant@example.com')\n",
        "sonaksh = User('sonaksh', 'Sonaksh Kumar', 'sonaksh@example.com')\n",
        "vishal = User('vishal', 'Vishal Goel', 'vishal@example.com')"
      ],
      "metadata": {
        "id": "WIJWZRa7APIy"
      },
      "execution_count": 8,
      "outputs": []
    },
    {
      "cell_type": "code",
      "source": [
        "users=[aakash,biraj,hemanth,jadhesh,siddhant,sonaksh,vishal]\n",
        "\n",
        "users_names=[]\n",
        "\n",
        "for user in users:\n",
        "  users_names.append(user.name)\n",
        "\n",
        "\n",
        "print(users_names)\n",
        "\n",
        "\n"
      ],
      "metadata": {
        "colab": {
          "base_uri": "https://localhost:8080/"
        },
        "id": "m69gyOnEARg9",
        "outputId": "cc60aa5c-6bd4-4b06-c829-29a69af83ef5"
      },
      "execution_count": 9,
      "outputs": [
        {
          "output_type": "stream",
          "name": "stdout",
          "text": [
            "['Aakash Rai', 'Biraj Das', 'Hemanth Jain', 'Jadhesh Verma', 'Siddhant Sinha', 'Sonaksh Kumar', 'Vishal Goel']\n"
          ]
        }
      ]
    },
    {
      "cell_type": "code",
      "source": [
        "print(users)"
      ],
      "metadata": {
        "colab": {
          "base_uri": "https://localhost:8080/"
        },
        "id": "Ic3z22gLBJ31",
        "outputId": "9bfb945e-fc33-458b-dbf7-7da302951c23"
      },
      "execution_count": 10,
      "outputs": [
        {
          "output_type": "stream",
          "name": "stdout",
          "text": [
            "[User(username='aakash', name='Aakash Rai', email='aakash@example.com'), User(username='biraj', name='Biraj Das', email='biraj@example.com'), User(username='hemanth', name='Hemanth Jain', email='hemanth@example.com'), User(username='jadhesh', name='Jadhesh Verma', email='jadhesh@example.com'), User(username='siddhant', name='Siddhant Sinha', email='siddhant@example.com'), User(username='sonaksh', name='Sonaksh Kumar', email='sonaksh@example.com'), User(username='vishal', name='Vishal Goel', email='vishal@example.com')]\n"
          ]
        }
      ]
    },
    {
      "cell_type": "code",
      "source": [
        "print('aakash'>'jadhesh')"
      ],
      "metadata": {
        "colab": {
          "base_uri": "https://localhost:8080/"
        },
        "id": "eBnKvTSBEAVp",
        "outputId": "18fa6fa4-964e-4b92-835b-5e810e53770d"
      },
      "execution_count": 11,
      "outputs": [
        {
          "output_type": "stream",
          "name": "stdout",
          "text": [
            "False\n"
          ]
        }
      ]
    },
    {
      "cell_type": "code",
      "source": [
        "class UserDatabase:\n",
        "  def __init__(self):\n",
        "    self.users=[]\n",
        "\n",
        " \n",
        "\n",
        "  def insert(self,user):\n",
        "    i=0\n",
        "    while i<len(self.users):\n",
        "      if self.users[i].username[i]> user.username:\n",
        "        break\n",
        "      \n",
        "      i+=1\n",
        "\n",
        "    self.users.insert(i,user)\n",
        "  \n",
        "\n",
        "  def find(self,username):\n",
        "    for user in self.users:\n",
        "      if user.username==username:\n",
        "        return user\n",
        "\n",
        "  \n",
        "  def update(self,user):\n",
        "    target=self.find(user.username)\n",
        "    target.name,target.mail=user.name,user.mail\n",
        "\n",
        "\n",
        "  def list_all(self):\n",
        "    return self.users\n",
        "\n",
        "\n",
        "    \n",
        "\n",
        "\n",
        "      \n",
        "    \n"
      ],
      "metadata": {
        "id": "4xI--8U0E_Lb"
      },
      "execution_count": 12,
      "outputs": []
    },
    {
      "cell_type": "code",
      "source": [
        "database=UserDatabase()\n",
        "\n"
      ],
      "metadata": {
        "id": "A-uymoaeIzt2"
      },
      "execution_count": 13,
      "outputs": []
    },
    {
      "cell_type": "code",
      "source": [
        "\n",
        "\n"
      ],
      "metadata": {
        "id": "TUW_uvLBNBCS"
      },
      "execution_count": 13,
      "outputs": []
    },
    {
      "cell_type": "code",
      "source": [],
      "metadata": {
        "id": "-_CcoFXRN-Ba"
      },
      "execution_count": 13,
      "outputs": []
    },
    {
      "cell_type": "code",
      "source": [
        "database.insert(hemanth)\n",
        "database.insert(aakash)\n",
        "database.insert(siddhant)"
      ],
      "metadata": {
        "id": "5Qxi3PNEVzHP"
      },
      "execution_count": 14,
      "outputs": []
    },
    {
      "cell_type": "code",
      "source": [
        "database.users"
      ],
      "metadata": {
        "colab": {
          "base_uri": "https://localhost:8080/"
        },
        "id": "KcxG8kJTWka7",
        "outputId": "14fa65ff-ee58-4106-aa9f-0d2e9ea02364"
      },
      "execution_count": 15,
      "outputs": [
        {
          "output_type": "execute_result",
          "data": {
            "text/plain": [
              "[User(username='aakash', name='Aakash Rai', email='aakash@example.com'),\n",
              " User(username='hemanth', name='Hemanth Jain', email='hemanth@example.com'),\n",
              " User(username='siddhant', name='Siddhant Sinha', email='siddhant@example.com')]"
            ]
          },
          "metadata": {},
          "execution_count": 15
        }
      ]
    },
    {
      "cell_type": "code",
      "source": [
        "user = database.find('siddhant')\n",
        "user"
      ],
      "metadata": {
        "colab": {
          "base_uri": "https://localhost:8080/"
        },
        "id": "Qsn7ekeIaD0F",
        "outputId": "142c79c2-7dea-4a89-cd9f-c020bf467820"
      },
      "execution_count": 16,
      "outputs": [
        {
          "output_type": "execute_result",
          "data": {
            "text/plain": [
              "User(username='siddhant', name='Siddhant Sinha', email='siddhant@example.com')"
            ]
          },
          "metadata": {},
          "execution_count": 16
        }
      ]
    },
    {
      "cell_type": "code",
      "source": [
        "database.list_all()"
      ],
      "metadata": {
        "colab": {
          "base_uri": "https://localhost:8080/"
        },
        "id": "BDAa-jIjaEAG",
        "outputId": "9802aed4-1f1d-4ca2-fb6d-8460a061bc6e"
      },
      "execution_count": 17,
      "outputs": [
        {
          "output_type": "execute_result",
          "data": {
            "text/plain": [
              "[User(username='aakash', name='Aakash Rai', email='aakash@example.com'),\n",
              " User(username='hemanth', name='Hemanth Jain', email='hemanth@example.com'),\n",
              " User(username='siddhant', name='Siddhant Sinha', email='siddhant@example.com')]"
            ]
          },
          "metadata": {},
          "execution_count": 17
        }
      ]
    },
    {
      "cell_type": "code",
      "source": [
        "class TreeNode:\n",
        "  def __init__(self,key):\n",
        "    self.key=key\n",
        "    self.right=None\n",
        "    self.left=None"
      ],
      "metadata": {
        "id": "6Z9JHjlPaQfM"
      },
      "execution_count": 18,
      "outputs": []
    },
    {
      "cell_type": "code",
      "source": [
        "node0=TreeNode(3)\n",
        "node1=TreeNode(4)\n",
        "node2=TreeNode(5)\n",
        "\n",
        "node0.left=node1\n",
        "node0.right=node2\n"
      ],
      "metadata": {
        "id": "KIY4S-MaafcX"
      },
      "execution_count": 19,
      "outputs": []
    },
    {
      "cell_type": "code",
      "source": [
        "tree=node0"
      ],
      "metadata": {
        "id": "pFVHKixabe4_"
      },
      "execution_count": 20,
      "outputs": []
    },
    {
      "cell_type": "code",
      "source": [
        "tree.left.key"
      ],
      "metadata": {
        "colab": {
          "base_uri": "https://localhost:8080/"
        },
        "id": "7SrH4M3qbhyC",
        "outputId": "71ce0c44-bfff-4b36-cf1d-aa9fa4a5fb9a"
      },
      "execution_count": 21,
      "outputs": [
        {
          "output_type": "execute_result",
          "data": {
            "text/plain": [
              "4"
            ]
          },
          "metadata": {},
          "execution_count": 21
        }
      ]
    },
    {
      "cell_type": "code",
      "source": [
        "tree_tuple=((1,3,None),2,((None,3,4),5,(6,7,8)))"
      ],
      "metadata": {
        "id": "LPKDyrLIcNws"
      },
      "execution_count": 22,
      "outputs": []
    },
    {
      "cell_type": "code",
      "source": [
        "def parse_tuple(data):\n",
        "  if isinstance(data,tuple) and len(data)==3:\n",
        "    node=TreeNode(data[1])\n",
        "    node.left=parse_tuple(data[0])\n",
        "    node.right=parse_tuple(data[2])\n",
        "\n",
        "  elif data==None:\n",
        "    node=None\n",
        "\n",
        "  else:\n",
        "    node=TreeNode(data)\n",
        "  \n",
        "  return node\n"
      ],
      "metadata": {
        "id": "yPeZ6uwxdk3I"
      },
      "execution_count": 23,
      "outputs": []
    },
    {
      "cell_type": "code",
      "source": [
        "def parse_tuple(data):\n",
        "  if isinstance(data,tuple) and len(data)==3:\n",
        "    node=TreeNode(data[1])\n",
        "    node.left=parse_tuple(data[0])\n",
        "    node.right=parse_tuple(data[2])\n",
        "\n",
        "  elif data==None:\n",
        "    node=None\n",
        "  else:\n",
        "    node=TreeNode(data)\n",
        "\n",
        "  return node"
      ],
      "metadata": {
        "id": "r1h1sLGafdJ2"
      },
      "execution_count": 24,
      "outputs": []
    },
    {
      "cell_type": "code",
      "source": [
        "tree2 = parse_tuple(((1,3,None), 2, ((None, 3, 4), 5, (6, 7, 8))))"
      ],
      "metadata": {
        "id": "Q69Xn2AJf9SE"
      },
      "execution_count": 25,
      "outputs": []
    },
    {
      "cell_type": "code",
      "source": [
        "tree2"
      ],
      "metadata": {
        "colab": {
          "base_uri": "https://localhost:8080/"
        },
        "id": "XEedZuhViIAU",
        "outputId": "d73f1ee4-1326-482c-9929-30558e6a6bee"
      },
      "execution_count": 26,
      "outputs": [
        {
          "output_type": "execute_result",
          "data": {
            "text/plain": [
              "<__main__.TreeNode at 0x7fe17481d370>"
            ]
          },
          "metadata": {},
          "execution_count": 26
        }
      ]
    },
    {
      "cell_type": "code",
      "source": [
        "tree2.key"
      ],
      "metadata": {
        "colab": {
          "base_uri": "https://localhost:8080/"
        },
        "id": "aA6gjxKGibM4",
        "outputId": "385f9dee-5638-4bc4-d923-cab78284675b"
      },
      "execution_count": 27,
      "outputs": [
        {
          "output_type": "execute_result",
          "data": {
            "text/plain": [
              "2"
            ]
          },
          "metadata": {},
          "execution_count": 27
        }
      ]
    },
    {
      "cell_type": "code",
      "source": [
        "tree2.left.key,tree2.right.key"
      ],
      "metadata": {
        "colab": {
          "base_uri": "https://localhost:8080/"
        },
        "id": "_SO-vktFigr2",
        "outputId": "ffff3c0f-7005-424a-a52c-826c0c7af9f3"
      },
      "execution_count": 28,
      "outputs": [
        {
          "output_type": "execute_result",
          "data": {
            "text/plain": [
              "(3, 5)"
            ]
          },
          "metadata": {},
          "execution_count": 28
        }
      ]
    },
    {
      "cell_type": "code",
      "source": [
        "def display_keys(node,space='\\t',level=0):\n",
        "  if node is None:\n",
        "    print(space * level+'@')\n",
        "    return\n",
        "\n",
        "  if node.left is None and node.right is None:\n",
        "    print(space*level+str(node.key)) \n",
        "    return\n",
        "\n",
        "  display_keys(node.right,space,level+1)\n",
        "  print(space*level + str(node.key))\n",
        "  display_keys(node.left,space,level+1)\n",
        "\n",
        "\n",
        "\n",
        "\n",
        "  "
      ],
      "metadata": {
        "id": "TJrzyQjLxPM6"
      },
      "execution_count": 29,
      "outputs": []
    },
    {
      "cell_type": "code",
      "source": [
        "def display_keys(node, space='\\t', level=0):\n",
        "    # print(node.key if node else None, level)\n",
        "    \n",
        "    # If the node is empty\n",
        "    if node is None:\n",
        "        print(space*level + '∅')\n",
        "        return   \n",
        "    \n",
        "    # If the node is a leaf \n",
        "    if node.left is None and node.right is None:\n",
        "        print(space*level + str(node.key))\n",
        "        return\n",
        "    \n",
        "    # If the node has children\n",
        "    display_keys(node.right, space, level+1)\n",
        "    print(space*level + str(node.key))\n",
        "    display_keys(node.left,space, level+1)    \n",
        "    "
      ],
      "metadata": {
        "id": "UpFJfQx74K8p"
      },
      "execution_count": 30,
      "outputs": []
    },
    {
      "cell_type": "code",
      "source": [
        "display_keys(tree2,'       ')"
      ],
      "metadata": {
        "colab": {
          "base_uri": "https://localhost:8080/"
        },
        "id": "o_FORS8KSqEK",
        "outputId": "8ff7d0a5-0a45-4574-9af2-ef11b5de3f09"
      },
      "execution_count": 31,
      "outputs": [
        {
          "output_type": "stream",
          "name": "stdout",
          "text": [
            "                     8\n",
            "              7\n",
            "                     6\n",
            "       5\n",
            "                     4\n",
            "              3\n",
            "                     ∅\n",
            "2\n",
            "              ∅\n",
            "       3\n",
            "              1\n"
          ]
        }
      ]
    },
    {
      "cell_type": "code",
      "source": [
        "def traverse_in_order(node):\n",
        "  if node is None:\n",
        "    return []\n",
        "\n",
        "  return (traverse_in_order(node.left)+ [node.key]+ traverse_in_order(node.right))\n",
        "\n"
      ],
      "metadata": {
        "id": "Mk26TfWAS_UD"
      },
      "execution_count": 32,
      "outputs": []
    },
    {
      "cell_type": "code",
      "source": [
        "traverse_in_order(tree2)"
      ],
      "metadata": {
        "colab": {
          "base_uri": "https://localhost:8080/"
        },
        "id": "3MUre6E1IKvx",
        "outputId": "7d615db3-932c-4bfe-d2c7-0df4dc02d4a2"
      },
      "execution_count": 33,
      "outputs": [
        {
          "output_type": "execute_result",
          "data": {
            "text/plain": [
              "[1, 3, 2, 3, 4, 5, 6, 7, 8]"
            ]
          },
          "metadata": {},
          "execution_count": 33
        }
      ]
    },
    {
      "cell_type": "code",
      "source": [
        "def tree_height(node):\n",
        "  if node is None:\n",
        "    return 0\n",
        "\n",
        "\n",
        "  return 1+ max(tree_height(node.left),tree_height(node.right))"
      ],
      "metadata": {
        "id": "NRrn-LvRIon_"
      },
      "execution_count": 34,
      "outputs": []
    },
    {
      "cell_type": "code",
      "source": [
        "tree_height(tree2)"
      ],
      "metadata": {
        "colab": {
          "base_uri": "https://localhost:8080/"
        },
        "id": "kenuK0f2JSNK",
        "outputId": "457b1c01-4040-4393-c94e-4c4877840839"
      },
      "execution_count": 36,
      "outputs": [
        {
          "output_type": "execute_result",
          "data": {
            "text/plain": [
              "4"
            ]
          },
          "metadata": {},
          "execution_count": 36
        }
      ]
    },
    {
      "cell_type": "code",
      "source": [
        "def tree_size(node):\n",
        "  if node is None:\n",
        "    return 0\n",
        "  return 1+ tree_size(node.left) +tree_size(node.right)"
      ],
      "metadata": {
        "id": "X58GeelLJint"
      },
      "execution_count": 37,
      "outputs": []
    },
    {
      "cell_type": "code",
      "source": [
        "class TreeNode():\n",
        "    def __init__(self, key):\n",
        "        self.key, self.left, self.right = key, None, None\n",
        "    \n",
        "    def height(self):\n",
        "        if self is None:\n",
        "            return 0\n",
        "        return 1 + max(TreeNode.height(self.left), TreeNode.height(self.right))\n",
        "    \n",
        "    def size(self):\n",
        "        if self is None:\n",
        "            return 0\n",
        "        return 1 + TreeNode.size(self.left) + TreeNode.size(self.right)\n",
        "\n",
        "    def traverse_in_order(self):\n",
        "        if self is None: \n",
        "            return []\n",
        "        return (TreeNode.traverse_in_order(self.left) + \n",
        "                [self.key] + \n",
        "                TreeNode.traverse_in_order(self.right))\n",
        "    \n",
        "    def display_keys(self, space='\\t', level=0):\n",
        "        # If the node is empty\n",
        "        if self is None:\n",
        "            print(space*level + '∅')\n",
        "            return   \n",
        "\n",
        "        # If the node is a leaf \n",
        "        if self.left is None and self.right is None:\n",
        "            print(space*level + str(self.key))\n",
        "            return\n",
        "\n",
        "        # If the node has children\n",
        "        display_keys(self.right, space, level+1)\n",
        "        print(space*level + str(self.key))\n",
        "        display_keys(self.left,space, level+1)    \n",
        "    \n",
        "    def to_tuple(self):\n",
        "        if self is None:\n",
        "            return None\n",
        "        if self.left is None and self.right is None:\n",
        "            return self.key\n",
        "        return TreeNode.to_tuple(self.left),  self.key, TreeNode.to_tuple(self.right)\n",
        "    \n",
        "    def __str__(self):\n",
        "        return \"BinaryTree <{}>\".format(self.to_tuple())\n",
        "    \n",
        "    def __repr__(self):\n",
        "        return \"BinaryTree <{}>\".format(self.to_tuple())\n",
        "    \n",
        "    @staticmethod    \n",
        "    def parse_tuple(data):\n",
        "        if data is None:\n",
        "            node = None\n",
        "        elif isinstance(data, tuple) and len(data) == 3:\n",
        "            node = TreeNode(data[1])\n",
        "            node.left = TreeNode.parse_tuple(data[0])\n",
        "            node.right = TreeNode.parse_tuple(data[2])\n",
        "        else:\n",
        "            node = TreeNode(data)\n",
        "        return node"
      ],
      "metadata": {
        "id": "TUCbxS83KgSu"
      },
      "execution_count": 38,
      "outputs": []
    },
    {
      "cell_type": "code",
      "source": [
        "tree_tuple"
      ],
      "metadata": {
        "colab": {
          "base_uri": "https://localhost:8080/"
        },
        "id": "9fRK743HPxXK",
        "outputId": "a89b4de8-3ccc-4115-f385-891aa9c6713b"
      },
      "execution_count": 39,
      "outputs": [
        {
          "output_type": "execute_result",
          "data": {
            "text/plain": [
              "((1, 3, None), 2, ((None, 3, 4), 5, (6, 7, 8)))"
            ]
          },
          "metadata": {},
          "execution_count": 39
        }
      ]
    },
    {
      "cell_type": "code",
      "source": [
        "tree= TreeNode.parse_tuple(tree_tuple)"
      ],
      "metadata": {
        "id": "PiNneu2cQTlK"
      },
      "execution_count": 40,
      "outputs": []
    },
    {
      "cell_type": "code",
      "source": [
        "tree"
      ],
      "metadata": {
        "colab": {
          "base_uri": "https://localhost:8080/"
        },
        "id": "0Uu_99vsQlU-",
        "outputId": "db9db184-fad7-4116-b9c1-bd5be0c374c1"
      },
      "execution_count": 41,
      "outputs": [
        {
          "output_type": "execute_result",
          "data": {
            "text/plain": [
              "BinaryTree <((1, 3, None), 2, ((None, 3, 4), 5, (6, 7, 8)))>"
            ]
          },
          "metadata": {},
          "execution_count": 41
        }
      ]
    },
    {
      "cell_type": "code",
      "source": [
        "tree.display_keys('  ')"
      ],
      "metadata": {
        "colab": {
          "base_uri": "https://localhost:8080/"
        },
        "id": "mLPrFbFKQpE_",
        "outputId": "25d3d2a1-256f-4119-e87d-1fc823e359ca"
      },
      "execution_count": 42,
      "outputs": [
        {
          "output_type": "stream",
          "name": "stdout",
          "text": [
            "      8\n",
            "    7\n",
            "      6\n",
            "  5\n",
            "      4\n",
            "    3\n",
            "      ∅\n",
            "2\n",
            "    ∅\n",
            "  3\n",
            "    1\n"
          ]
        }
      ]
    },
    {
      "cell_type": "code",
      "source": [
        "def remove_nums(nums):\n",
        "  return [x for x in nums if x is not None]\n",
        "\n",
        "def is_bst(node):\n",
        "  if node is None:\n",
        "    return True , None, None\n",
        "\n",
        "  \n",
        "  is_bst_l,min_l,max_l=is_bst(node.left)\n",
        "  is_bst_r,min_r,max_r=is_bst(node.right)\n",
        "\n",
        "  is_bst_nod=(is_bst_l and is_bst_r and (max_l is None or node.key>))\n",
        "\n",
        "\n",
        "  \n",
        "\n",
        "\n",
        "\n",
        "\n",
        "\n",
        "\n",
        "\n"
      ],
      "metadata": {
        "id": "iJDg8Cm1QrlW"
      },
      "execution_count": null,
      "outputs": []
    }
  ]
}