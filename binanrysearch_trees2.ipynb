{
  "nbformat": 4,
  "nbformat_minor": 0,
  "metadata": {
    "colab": {
      "provenance": [],
      "authorship_tag": "ABX9TyMJw1AHuwDxxDykXyZtCOgt",
      "include_colab_link": true
    },
    "kernelspec": {
      "name": "python3",
      "display_name": "Python 3"
    },
    "language_info": {
      "name": "python"
    }
  },
  "cells": [
    {
      "cell_type": "markdown",
      "metadata": {
        "id": "view-in-github",
        "colab_type": "text"
      },
      "source": [
        "<a href=\"https://colab.research.google.com/github/Bizor1/Data_structures-and-Algorithms/blob/main/binanrysearch_trees2.ipynb\" target=\"_parent\"><img src=\"https://colab.research.google.com/assets/colab-badge.svg\" alt=\"Open In Colab\"/></a>"
      ]
    },
    {
      "cell_type": "code",
      "execution_count": 1,
      "metadata": {
        "id": "Z6IXYjyh2dbE"
      },
      "outputs": [],
      "source": [
        "class User:\n",
        "  def __init__(self,username,name,mail):\n",
        "    self.username=username\n",
        "    self.name=name\n",
        "    self.mail=mail\n",
        "\n",
        "  def __repr__(self):\n",
        "      return \"User(username='{}', name='{}', email='{}')\".format(self.username, self.name, self.mail)\n",
        "\n",
        "  def ___str__(self):\n",
        "    return self.__repr__()\n",
        "\n",
        "\n",
        "\n",
        "\n"
      ]
    },
    {
      "cell_type": "code",
      "source": [
        "user1=User('Johnd','jOHN doe','jd@gmail.com')\n",
        "user1"
      ],
      "metadata": {
        "colab": {
          "base_uri": "https://localhost:8080/"
        },
        "id": "dHC6SI-U7-fa",
        "outputId": "65b2347a-021f-4adc-cc7d-6e63ffa2e3bb"
      },
      "execution_count": 2,
      "outputs": [
        {
          "output_type": "execute_result",
          "data": {
            "text/plain": [
              "User(username='Johnd', name='jOHN doe', email='jd@gmail.com')"
            ]
          },
          "metadata": {},
          "execution_count": 2
        }
      ]
    },
    {
      "cell_type": "code",
      "source": [
        "user1"
      ],
      "metadata": {
        "colab": {
          "base_uri": "https://localhost:8080/"
        },
        "id": "-ra8lJnl8NAx",
        "outputId": "8e4ff215-7a70-4f18-b7d7-4883b1959187"
      },
      "execution_count": 3,
      "outputs": [
        {
          "output_type": "execute_result",
          "data": {
            "text/plain": [
              "User(username='Johnd', name='jOHN doe', email='jd@gmail.com')"
            ]
          },
          "metadata": {},
          "execution_count": 3
        }
      ]
    },
    {
      "cell_type": "code",
      "source": [
        "class UserDatabase:\n",
        "  def insert(self,user):\n",
        "    pass\n",
        "\n",
        "  def find(self,username):\n",
        "    pass\n",
        "\n",
        "  def update(self,user):\n",
        "    pass\n",
        "  \n",
        "  def list_all():\n",
        "    pass"
      ],
      "metadata": {
        "id": "gOG40wqH-aDy"
      },
      "execution_count": 4,
      "outputs": []
    },
    {
      "cell_type": "code",
      "source": [
        "aakash = User('aakash', 'Aakash Rai', 'aakash@example.com')\n",
        "biraj = User('biraj', 'Biraj Das', 'biraj@example.com')\n",
        "hemanth = User('hemanth', 'Hemanth Jain', 'hemanth@example.com')\n",
        "jadhesh = User('jadhesh', 'Jadhesh Verma', 'jadhesh@example.com')\n",
        "siddhant = User('siddhant', 'Siddhant Sinha', 'siddhant@example.com')\n",
        "sonaksh = User('sonaksh', 'Sonaksh Kumar', 'sonaksh@example.com')\n",
        "vishal = User('vishal', 'Vishal Goel', 'vishal@example.com')"
      ],
      "metadata": {
        "id": "WIJWZRa7APIy"
      },
      "execution_count": 5,
      "outputs": []
    },
    {
      "cell_type": "code",
      "source": [
        "users=[aakash,biraj,hemanth,jadhesh,siddhant,sonaksh,vishal]\n",
        "\n",
        "users_names=[]\n",
        "\n",
        "for user in users:\n",
        "  users_names.append(user.name)\n",
        "\n",
        "\n",
        "print(users_names)\n",
        "\n",
        "\n"
      ],
      "metadata": {
        "colab": {
          "base_uri": "https://localhost:8080/"
        },
        "id": "m69gyOnEARg9",
        "outputId": "9b7ee98e-c333-4bcf-d807-0613aa04707d"
      },
      "execution_count": 6,
      "outputs": [
        {
          "output_type": "stream",
          "name": "stdout",
          "text": [
            "['Aakash Rai', 'Biraj Das', 'Hemanth Jain', 'Jadhesh Verma', 'Siddhant Sinha', 'Sonaksh Kumar', 'Vishal Goel']\n"
          ]
        }
      ]
    },
    {
      "cell_type": "code",
      "source": [
        "print(users)"
      ],
      "metadata": {
        "colab": {
          "base_uri": "https://localhost:8080/"
        },
        "id": "Ic3z22gLBJ31",
        "outputId": "fad536ce-5752-4207-9297-53ab5b06c2d6"
      },
      "execution_count": 7,
      "outputs": [
        {
          "output_type": "stream",
          "name": "stdout",
          "text": [
            "[User(username='aakash', name='Aakash Rai', email='aakash@example.com'), User(username='biraj', name='Biraj Das', email='biraj@example.com'), User(username='hemanth', name='Hemanth Jain', email='hemanth@example.com'), User(username='jadhesh', name='Jadhesh Verma', email='jadhesh@example.com'), User(username='siddhant', name='Siddhant Sinha', email='siddhant@example.com'), User(username='sonaksh', name='Sonaksh Kumar', email='sonaksh@example.com'), User(username='vishal', name='Vishal Goel', email='vishal@example.com')]\n"
          ]
        }
      ]
    },
    {
      "cell_type": "code",
      "source": [
        "print('aakash'>'jadhesh')"
      ],
      "metadata": {
        "colab": {
          "base_uri": "https://localhost:8080/"
        },
        "id": "eBnKvTSBEAVp",
        "outputId": "b536a91a-b801-4745-8661-999d052ca96c"
      },
      "execution_count": 8,
      "outputs": [
        {
          "output_type": "stream",
          "name": "stdout",
          "text": [
            "False\n"
          ]
        }
      ]
    },
    {
      "cell_type": "code",
      "source": [
        "class UserDatabase:\n",
        "  def __init__(self):\n",
        "    self.users=[]\n",
        "\n",
        " \n",
        "\n",
        "  def insert(self,user):\n",
        "    i=0\n",
        "    while i<len(self.users):\n",
        "      if self.users[i].username[i]> user.username:\n",
        "        break\n",
        "      \n",
        "      i+=1\n",
        "\n",
        "    self.users.insert(i,user)\n",
        "  \n",
        "\n",
        "  def find(self,username):\n",
        "    for user in self.users:\n",
        "      if user.username==username:\n",
        "        return user\n",
        "\n",
        "  \n",
        "  def update(self,user):\n",
        "    target=self.find(user.username)\n",
        "    target.name,target.mail=user.name,user.mail\n",
        "\n",
        "\n",
        "  def list_all(self):\n",
        "    return self.users\n",
        "\n",
        "\n",
        "    \n",
        "\n",
        "\n",
        "      \n",
        "    \n"
      ],
      "metadata": {
        "id": "4xI--8U0E_Lb"
      },
      "execution_count": 9,
      "outputs": []
    },
    {
      "cell_type": "code",
      "source": [
        "database=UserDatabase()\n",
        "\n"
      ],
      "metadata": {
        "id": "A-uymoaeIzt2"
      },
      "execution_count": 10,
      "outputs": []
    },
    {
      "cell_type": "code",
      "source": [
        "\n",
        "\n"
      ],
      "metadata": {
        "id": "TUW_uvLBNBCS"
      },
      "execution_count": 10,
      "outputs": []
    },
    {
      "cell_type": "code",
      "source": [],
      "metadata": {
        "id": "-_CcoFXRN-Ba"
      },
      "execution_count": 10,
      "outputs": []
    },
    {
      "cell_type": "code",
      "source": [
        "database.insert(hemanth)\n",
        "database.insert(aakash)\n",
        "database.insert(siddhant)"
      ],
      "metadata": {
        "id": "5Qxi3PNEVzHP"
      },
      "execution_count": 11,
      "outputs": []
    },
    {
      "cell_type": "code",
      "source": [
        "database.users"
      ],
      "metadata": {
        "colab": {
          "base_uri": "https://localhost:8080/"
        },
        "id": "KcxG8kJTWka7",
        "outputId": "6eff5d80-a0d0-454e-f8ae-a2126f43f0ef"
      },
      "execution_count": 12,
      "outputs": [
        {
          "output_type": "execute_result",
          "data": {
            "text/plain": [
              "[User(username='aakash', name='Aakash Rai', email='aakash@example.com'),\n",
              " User(username='hemanth', name='Hemanth Jain', email='hemanth@example.com'),\n",
              " User(username='siddhant', name='Siddhant Sinha', email='siddhant@example.com')]"
            ]
          },
          "metadata": {},
          "execution_count": 12
        }
      ]
    },
    {
      "cell_type": "code",
      "source": [
        "user = database.find('siddhant')\n",
        "user"
      ],
      "metadata": {
        "colab": {
          "base_uri": "https://localhost:8080/"
        },
        "id": "Qsn7ekeIaD0F",
        "outputId": "7a5a20bc-70a5-47b6-f306-16780a034d2a"
      },
      "execution_count": 13,
      "outputs": [
        {
          "output_type": "execute_result",
          "data": {
            "text/plain": [
              "User(username='siddhant', name='Siddhant Sinha', email='siddhant@example.com')"
            ]
          },
          "metadata": {},
          "execution_count": 13
        }
      ]
    },
    {
      "cell_type": "code",
      "source": [
        "database.list_all()"
      ],
      "metadata": {
        "colab": {
          "base_uri": "https://localhost:8080/"
        },
        "id": "BDAa-jIjaEAG",
        "outputId": "df5e034f-cc52-4fff-a200-475442a9f40c"
      },
      "execution_count": 14,
      "outputs": [
        {
          "output_type": "execute_result",
          "data": {
            "text/plain": [
              "[User(username='aakash', name='Aakash Rai', email='aakash@example.com'),\n",
              " User(username='hemanth', name='Hemanth Jain', email='hemanth@example.com'),\n",
              " User(username='siddhant', name='Siddhant Sinha', email='siddhant@example.com')]"
            ]
          },
          "metadata": {},
          "execution_count": 14
        }
      ]
    },
    {
      "cell_type": "code",
      "source": [
        "class TreeNode:\n",
        "  def __init__(self,key):\n",
        "    self.key=key\n",
        "    self.right=None\n",
        "    self.left=None"
      ],
      "metadata": {
        "id": "6Z9JHjlPaQfM"
      },
      "execution_count": 15,
      "outputs": []
    },
    {
      "cell_type": "code",
      "source": [
        "node0=TreeNode(3)\n",
        "node1=TreeNode(4)\n",
        "node2=TreeNode(5)\n",
        "\n",
        "node0.left=node1\n",
        "node0.right=node2\n"
      ],
      "metadata": {
        "id": "KIY4S-MaafcX"
      },
      "execution_count": 16,
      "outputs": []
    },
    {
      "cell_type": "code",
      "source": [
        "tree=node0"
      ],
      "metadata": {
        "id": "pFVHKixabe4_"
      },
      "execution_count": 17,
      "outputs": []
    },
    {
      "cell_type": "code",
      "source": [
        "tree.left.key"
      ],
      "metadata": {
        "colab": {
          "base_uri": "https://localhost:8080/"
        },
        "id": "7SrH4M3qbhyC",
        "outputId": "c97d0034-0d98-4b38-f58e-2ed213dbceab"
      },
      "execution_count": 18,
      "outputs": [
        {
          "output_type": "execute_result",
          "data": {
            "text/plain": [
              "4"
            ]
          },
          "metadata": {},
          "execution_count": 18
        }
      ]
    },
    {
      "cell_type": "code",
      "source": [
        "tree_tuple=((1,3,None),2,((None,3,4),5,(6,7,8)))"
      ],
      "metadata": {
        "id": "LPKDyrLIcNws"
      },
      "execution_count": 19,
      "outputs": []
    },
    {
      "cell_type": "code",
      "source": [
        "def parse_tuple(data):\n",
        "  if isinstance(data,tuple) and len(data)==3:\n",
        "    node=TreeNode(data[1])\n",
        "    node.left=parse_tuple(data[0])\n",
        "    node.right=parse_tuple(data[2])\n",
        "\n",
        "  elif data==None:\n",
        "    node=None\n",
        "\n",
        "  else:\n",
        "    node=TreeNode(data)\n",
        "  \n",
        "  return node\n"
      ],
      "metadata": {
        "id": "yPeZ6uwxdk3I"
      },
      "execution_count": 20,
      "outputs": []
    },
    {
      "cell_type": "code",
      "source": [
        "def parse_tuple(data):\n",
        "  if isinstance(data,tuple) and len(data)==3:\n",
        "    node=TreeNode(data[1])\n",
        "    node.left=parse_tuple(data[0])\n",
        "    node.right=parse_tuple(data[2])\n",
        "\n",
        "  elif data==None:\n",
        "    node=None\n",
        "  else:\n",
        "    node=TreeNode(data)\n",
        "\n",
        "  return node"
      ],
      "metadata": {
        "id": "r1h1sLGafdJ2"
      },
      "execution_count": 21,
      "outputs": []
    },
    {
      "cell_type": "code",
      "source": [
        "tree2 = parse_tuple(((1,3,None), 2, ((None, 3, 4), 5, (6, 7, 8))))"
      ],
      "metadata": {
        "id": "Q69Xn2AJf9SE"
      },
      "execution_count": 22,
      "outputs": []
    },
    {
      "cell_type": "code",
      "source": [
        "tree2"
      ],
      "metadata": {
        "colab": {
          "base_uri": "https://localhost:8080/"
        },
        "id": "XEedZuhViIAU",
        "outputId": "6651218f-1d3a-4f03-fa02-20052778a84e"
      },
      "execution_count": 23,
      "outputs": [
        {
          "output_type": "execute_result",
          "data": {
            "text/plain": [
              "<__main__.TreeNode at 0x7f4eb9919be0>"
            ]
          },
          "metadata": {},
          "execution_count": 23
        }
      ]
    },
    {
      "cell_type": "code",
      "source": [
        "tree2.key"
      ],
      "metadata": {
        "colab": {
          "base_uri": "https://localhost:8080/"
        },
        "id": "aA6gjxKGibM4",
        "outputId": "ed6c9dcf-e8d1-435b-881e-fb919409ad64"
      },
      "execution_count": 24,
      "outputs": [
        {
          "output_type": "execute_result",
          "data": {
            "text/plain": [
              "2"
            ]
          },
          "metadata": {},
          "execution_count": 24
        }
      ]
    },
    {
      "cell_type": "code",
      "source": [
        "tree2.left.key,tree2.right.key"
      ],
      "metadata": {
        "colab": {
          "base_uri": "https://localhost:8080/"
        },
        "id": "_SO-vktFigr2",
        "outputId": "efd4bc9e-1edb-4219-d3dd-e764957b2c18"
      },
      "execution_count": 25,
      "outputs": [
        {
          "output_type": "execute_result",
          "data": {
            "text/plain": [
              "(3, 5)"
            ]
          },
          "metadata": {},
          "execution_count": 25
        }
      ]
    },
    {
      "cell_type": "code",
      "source": [
        "def display_keys(node,space='\\t',level=0):\n",
        "  if node is None:\n",
        "    print(space * level+'@')\n",
        "    return\n",
        "\n",
        "  if node.left is None and node.right is None:\n",
        "    print(space*level+str(node.key)) \n",
        "    return\n",
        "\n",
        "  display_keys(node.right,space,level+1)\n",
        "  print(space*level + str(node.key))\n",
        "  display_keys(node.left,space,level+1)\n",
        "\n",
        "\n",
        "\n",
        "\n",
        "  "
      ],
      "metadata": {
        "id": "TJrzyQjLxPM6"
      },
      "execution_count": 26,
      "outputs": []
    },
    {
      "cell_type": "code",
      "source": [
        "def display_keys(node, space='\\t', level=0):\n",
        "    # print(node.key if node else None, level)\n",
        "    \n",
        "    # If the node is empty\n",
        "    if node is None:\n",
        "        print(space*level + '∅')\n",
        "        return   \n",
        "    \n",
        "    # If the node is a leaf \n",
        "    if node.left is None and node.right is None:\n",
        "        print(space*level + str(node.key))\n",
        "        return\n",
        "    \n",
        "    # If the node has children\n",
        "    display_keys(node.right, space, level+1)\n",
        "    print(space*level + str(node.key))\n",
        "    display_keys(node.left,space, level+1)    \n",
        "    "
      ],
      "metadata": {
        "id": "UpFJfQx74K8p"
      },
      "execution_count": 27,
      "outputs": []
    },
    {
      "cell_type": "code",
      "source": [
        "display_keys(tree2,'       ')"
      ],
      "metadata": {
        "colab": {
          "base_uri": "https://localhost:8080/"
        },
        "id": "o_FORS8KSqEK",
        "outputId": "39f132ae-db10-4bdc-a9bf-b178f1877fd8"
      },
      "execution_count": 28,
      "outputs": [
        {
          "output_type": "stream",
          "name": "stdout",
          "text": [
            "                     8\n",
            "              7\n",
            "                     6\n",
            "       5\n",
            "                     4\n",
            "              3\n",
            "                     ∅\n",
            "2\n",
            "              ∅\n",
            "       3\n",
            "              1\n"
          ]
        }
      ]
    },
    {
      "cell_type": "code",
      "source": [
        "def traverse_in_order(node):\n",
        "  if node is None:\n",
        "    return []\n",
        "\n",
        "  return (traverse_in_order(node.left)+ [node.key]+ traverse_in_order(node.right))\n",
        "\n"
      ],
      "metadata": {
        "id": "Mk26TfWAS_UD"
      },
      "execution_count": 29,
      "outputs": []
    },
    {
      "cell_type": "code",
      "source": [
        "traverse_in_order(tree2)"
      ],
      "metadata": {
        "colab": {
          "base_uri": "https://localhost:8080/"
        },
        "id": "3MUre6E1IKvx",
        "outputId": "e0a63d69-b67f-46ab-a0e8-c72a51f7b832"
      },
      "execution_count": 30,
      "outputs": [
        {
          "output_type": "execute_result",
          "data": {
            "text/plain": [
              "[1, 3, 2, 3, 4, 5, 6, 7, 8]"
            ]
          },
          "metadata": {},
          "execution_count": 30
        }
      ]
    },
    {
      "cell_type": "code",
      "source": [
        "def tree_height(node):\n",
        "  if node is None:\n",
        "    return 0\n",
        "\n",
        "\n",
        "  return 1+ max(tree_height(node.left),tree_height(node.right))"
      ],
      "metadata": {
        "id": "NRrn-LvRIon_"
      },
      "execution_count": 31,
      "outputs": []
    },
    {
      "cell_type": "code",
      "source": [
        "tree_height(tree2)"
      ],
      "metadata": {
        "colab": {
          "base_uri": "https://localhost:8080/"
        },
        "id": "kenuK0f2JSNK",
        "outputId": "f7c5204a-0cf5-4d13-fd6a-e84d22618db5"
      },
      "execution_count": 32,
      "outputs": [
        {
          "output_type": "execute_result",
          "data": {
            "text/plain": [
              "4"
            ]
          },
          "metadata": {},
          "execution_count": 32
        }
      ]
    },
    {
      "cell_type": "code",
      "source": [
        "def tree_size(node):\n",
        "  if node is None:\n",
        "    return 0\n",
        "  return 1+ tree_size(node.left) +tree_size(node.right)"
      ],
      "metadata": {
        "id": "X58GeelLJint"
      },
      "execution_count": 33,
      "outputs": []
    },
    {
      "cell_type": "code",
      "source": [
        "class TreeNode():\n",
        "    def __init__(self, key):\n",
        "        self.key, self.left, self.right = key, None, None\n",
        "    \n",
        "    def height(self):\n",
        "        if self is None:\n",
        "            return 0\n",
        "        return 1 + max(TreeNode.height(self.left), TreeNode.height(self.right))\n",
        "    \n",
        "    def size(self):\n",
        "        if self is None:\n",
        "            return 0\n",
        "        return 1 + TreeNode.size(self.left) + TreeNode.size(self.right)\n",
        "\n",
        "    def traverse_in_order(self):\n",
        "        if self is None: \n",
        "            return []\n",
        "        return (TreeNode.traverse_in_order(self.left) + \n",
        "                [self.key] + \n",
        "                TreeNode.traverse_in_order(self.right))\n",
        "    \n",
        "    def display_keys(self, space='\\t', level=0):\n",
        "        # If the node is empty\n",
        "        if self is None:\n",
        "            print(space*level + '∅')\n",
        "            return   \n",
        "\n",
        "        # If the node is a leaf \n",
        "        if self.left is None and self.right is None:\n",
        "            print(space*level + str(self.key))\n",
        "            return\n",
        "\n",
        "        # If the node has children\n",
        "        display_keys(self.right, space, level+1)\n",
        "        print(space*level + str(self.key))\n",
        "        display_keys(self.left,space, level+1)    \n",
        "    \n",
        "    def to_tuple(self):\n",
        "        if self is None:\n",
        "            return None\n",
        "        if self.left is None and self.right is None:\n",
        "            return self.key\n",
        "        return TreeNode.to_tuple(self.left),  self.key, TreeNode.to_tuple(self.right)\n",
        "    \n",
        "    def __str__(self):\n",
        "        return \"BinaryTree <{}>\".format(self.to_tuple())\n",
        "    \n",
        "    def __repr__(self):\n",
        "        return \"BinaryTree <{}>\".format(self.to_tuple())\n",
        "    \n",
        "    @staticmethod    \n",
        "    def parse_tuple(data):\n",
        "        if data is None:\n",
        "            node = None\n",
        "        elif isinstance(data, tuple) and len(data) == 3:\n",
        "            node = TreeNode(data[1])\n",
        "            node.left = TreeNode.parse_tuple(data[0])\n",
        "            node.right = TreeNode.parse_tuple(data[2])\n",
        "        else:\n",
        "            node = TreeNode(data)\n",
        "        return node"
      ],
      "metadata": {
        "id": "TUCbxS83KgSu"
      },
      "execution_count": 34,
      "outputs": []
    },
    {
      "cell_type": "code",
      "source": [
        "tree_tuple"
      ],
      "metadata": {
        "colab": {
          "base_uri": "https://localhost:8080/"
        },
        "id": "9fRK743HPxXK",
        "outputId": "67b3e649-6e80-4923-9fc3-0a751a5d62c8"
      },
      "execution_count": 35,
      "outputs": [
        {
          "output_type": "execute_result",
          "data": {
            "text/plain": [
              "((1, 3, None), 2, ((None, 3, 4), 5, (6, 7, 8)))"
            ]
          },
          "metadata": {},
          "execution_count": 35
        }
      ]
    },
    {
      "cell_type": "code",
      "source": [
        "tree= TreeNode.parse_tuple(tree_tuple)"
      ],
      "metadata": {
        "id": "PiNneu2cQTlK"
      },
      "execution_count": 36,
      "outputs": []
    },
    {
      "cell_type": "code",
      "source": [
        "tree"
      ],
      "metadata": {
        "colab": {
          "base_uri": "https://localhost:8080/"
        },
        "id": "0Uu_99vsQlU-",
        "outputId": "f4f59e9e-78e2-4a31-e25f-08513671f206"
      },
      "execution_count": 37,
      "outputs": [
        {
          "output_type": "execute_result",
          "data": {
            "text/plain": [
              "BinaryTree <((1, 3, None), 2, ((None, 3, 4), 5, (6, 7, 8)))>"
            ]
          },
          "metadata": {},
          "execution_count": 37
        }
      ]
    },
    {
      "cell_type": "code",
      "source": [
        "tree.display_keys('  ')"
      ],
      "metadata": {
        "colab": {
          "base_uri": "https://localhost:8080/"
        },
        "id": "mLPrFbFKQpE_",
        "outputId": "5612e62d-7e72-4121-de9d-e11cb144fcb6"
      },
      "execution_count": 38,
      "outputs": [
        {
          "output_type": "stream",
          "name": "stdout",
          "text": [
            "      8\n",
            "    7\n",
            "      6\n",
            "  5\n",
            "      4\n",
            "    3\n",
            "      ∅\n",
            "2\n",
            "    ∅\n",
            "  3\n",
            "    1\n"
          ]
        }
      ]
    },
    {
      "cell_type": "code",
      "source": [
        "\n",
        "def remove_none(nums):\n",
        "  return [x for x in nums if x is not None]\n",
        "\n",
        "def is_bst(node):\n",
        "  if node is None:\n",
        "    return True ,None ,None\n",
        "\n",
        "  is_bst_l,min_l,max_l=is_bst(node.left)\n",
        "  is_bst_r,min_r,max_r=is_bst(node.right)\n",
        "\n",
        "  is_bst_node=(is_bst_l and is_bst_r and (max_l is None or node.key > max_l) and (min_r is None or node.key < min_r))\n",
        "\n",
        "  min_key=min(remove_none([min_l,node.key,min_r]))\n",
        "  max_key=max(remove_none([max_l,node.key,max_r]))\n",
        "\n",
        "\n",
        "  return is_bst_node,min_key,max_key\n",
        "\n",
        "  \n",
        "\n",
        "\n",
        "\n",
        "\n",
        "  \n",
        "\n",
        "\n",
        "\n",
        "\n",
        "\n",
        "\n",
        "\n"
      ],
      "metadata": {
        "id": "iJDg8Cm1QrlW"
      },
      "execution_count": 53,
      "outputs": []
    },
    {
      "cell_type": "code",
      "source": [
        "tree1 = TreeNode.parse_tuple(((1, 3, None), 2, ((None, 3, 4), 5, (6, 7, 8))))"
      ],
      "metadata": {
        "id": "JOhoDxpgIUH1"
      },
      "execution_count": 43,
      "outputs": []
    },
    {
      "cell_type": "code",
      "source": [
        "tree2 = TreeNode.parse_tuple((('aakash', 'biraj', 'hemanth')  , 'jadhesh', ('siddhant', 'sonaksh', 'vishal')))"
      ],
      "metadata": {
        "id": "1devZzmWIYYA"
      },
      "execution_count": 44,
      "outputs": []
    },
    {
      "cell_type": "code",
      "source": [
        "is_bst(tree2)"
      ],
      "metadata": {
        "id": "KoAS2zDfIbH3",
        "outputId": "1617589e-d8b5-47f8-ce4f-291346bfa02e",
        "colab": {
          "base_uri": "https://localhost:8080/"
        }
      },
      "execution_count": 55,
      "outputs": [
        {
          "output_type": "execute_result",
          "data": {
            "text/plain": [
              "(True, 'aakash', 'vishal')"
            ]
          },
          "metadata": {},
          "execution_count": 55
        }
      ]
    },
    {
      "cell_type": "code",
      "source": [
        "is_bst(tree1)"
      ],
      "metadata": {
        "id": "1edxj6u6JPdZ",
        "outputId": "82133a93-e716-4890-e021-2fe46136552e",
        "colab": {
          "base_uri": "https://localhost:8080/"
        }
      },
      "execution_count": 54,
      "outputs": [
        {
          "output_type": "execute_result",
          "data": {
            "text/plain": [
              "(False, 1, 8)"
            ]
          },
          "metadata": {},
          "execution_count": 54
        }
      ]
    },
    {
      "cell_type": "code",
      "source": [
        "class BSTNode:\n",
        "  def __init__(self,key,value=None):\n",
        "    self.key=key\n",
        "    self.value=value\n",
        "    self.right=None\n",
        "    self.left=None\n",
        "    self.parent=None"
      ],
      "metadata": {
        "id": "XRm_tfn9Kkis"
      },
      "execution_count": 56,
      "outputs": []
    },
    {
      "cell_type": "code",
      "source": [
        "def insert(node,key,value):\n",
        "  if node is None:\n",
        "    return BSTNode(key,value)\n",
        "  if key<node.key:\n",
        "    node.left=insert(node.left,key,value)\n",
        "    node.left.parent=node\n",
        "  if key>node.key:\n",
        "    node.right=insert(node.right,key,value)\n",
        "    node.right.parent=node\n",
        "\n",
        "  return node"
      ],
      "metadata": {
        "id": "HwlrxJnLMaAa"
      },
      "execution_count": null,
      "outputs": []
    },
    {
      "cell_type": "code",
      "source": [
        "def insert(node,key,value):\n",
        "  if node is None:\n",
        "    node=BSTNode(key,value)\n",
        "  elif key< node.key:\n",
        "    node.left=insert(node.left,key,value)\n",
        "    node.left.parent=node\n",
        "\n",
        "  elif key>node.key:\n",
        "    node.right=insert(node.right,key,value)\n",
        "    node.right.parent=node\n",
        "\n",
        "  return node\n",
        "\n",
        "  \n",
        "\n",
        "    \n",
        "\n"
      ],
      "metadata": {
        "id": "z9kFba39TP7N"
      },
      "execution_count": 57,
      "outputs": []
    },
    {
      "cell_type": "code",
      "source": [
        "tree = insert(None, jadhesh.username, jadhesh)"
      ],
      "metadata": {
        "id": "BQPASbDjVbON"
      },
      "execution_count": 58,
      "outputs": []
    },
    {
      "cell_type": "code",
      "source": [
        "insert(tree, biraj.username, biraj)\n",
        "insert(tree, sonaksh.username, sonaksh)\n",
        "insert(tree, aakash.username, aakash)\n",
        "insert(tree, hemanth.username, hemanth)\n",
        "insert(tree, siddhant.username, siddhant)\n",
        "insert(tree, vishal.username, siddhant)"
      ],
      "metadata": {
        "id": "fe-p6S8IVelP",
        "outputId": "ea235d7d-4aec-4f35-af7f-1305ec069800",
        "colab": {
          "base_uri": "https://localhost:8080/"
        }
      },
      "execution_count": 59,
      "outputs": [
        {
          "output_type": "execute_result",
          "data": {
            "text/plain": [
              "<__main__.BSTNode at 0x7f4e9b2814f0>"
            ]
          },
          "metadata": {},
          "execution_count": 59
        }
      ]
    },
    {
      "cell_type": "code",
      "source": [
        "display_keys(tree)"
      ],
      "metadata": {
        "id": "OiFlfcG0VkK3",
        "outputId": "3bd3a408-f6a3-4109-e1f1-b24f3de8e006",
        "colab": {
          "base_uri": "https://localhost:8080/"
        }
      },
      "execution_count": 60,
      "outputs": [
        {
          "output_type": "stream",
          "name": "stdout",
          "text": [
            "\t\tvishal\n",
            "\tsonaksh\n",
            "\t\tsiddhant\n",
            "jadhesh\n",
            "\t\themanth\n",
            "\tbiraj\n",
            "\t\taakash\n"
          ]
        }
      ]
    },
    {
      "cell_type": "code",
      "source": [
        "tree2 = insert(None, aakash.username, aakash)\n",
        "insert(tree2, biraj.username, biraj)\n",
        "insert(tree2, hemanth.username, hemanth)\n",
        "insert(tree2, jadhesh.username, jadhesh)\n",
        "insert(tree2, siddhant.username, siddhant)\n",
        "insert(tree2, sonaksh.username, sonaksh)\n",
        "insert(tree2, vishal.username, vishal)"
      ],
      "metadata": {
        "id": "gePEboGeV9QX",
        "outputId": "b8a9c27d-f0dd-4029-9742-820004eee0c1",
        "colab": {
          "base_uri": "https://localhost:8080/"
        }
      },
      "execution_count": 62,
      "outputs": [
        {
          "output_type": "execute_result",
          "data": {
            "text/plain": [
              "<__main__.BSTNode at 0x7f4e9b281df0>"
            ]
          },
          "metadata": {},
          "execution_count": 62
        }
      ]
    },
    {
      "cell_type": "code",
      "source": [
        "display_keys(tree2)"
      ],
      "metadata": {
        "id": "BnsIyFy_WlfQ",
        "outputId": "e4bb4700-e880-43f1-cd56-1ad43e48a5fc",
        "colab": {
          "base_uri": "https://localhost:8080/"
        }
      },
      "execution_count": 63,
      "outputs": [
        {
          "output_type": "stream",
          "name": "stdout",
          "text": [
            "\t\t\t\t\t\tvishal\n",
            "\t\t\t\t\tsonaksh\n",
            "\t\t\t\t\t\t∅\n",
            "\t\t\t\tsiddhant\n",
            "\t\t\t\t\t∅\n",
            "\t\t\tjadhesh\n",
            "\t\t\t\t∅\n",
            "\t\themanth\n",
            "\t\t\t∅\n",
            "\tbiraj\n",
            "\t\t∅\n",
            "aakash\n",
            "\t∅\n"
          ]
        }
      ]
    },
    {
      "cell_type": "code",
      "source": [
        "def insert(node,key,value):\n",
        "  if node is None:\n",
        "    node=BSTNode(key,value)\n",
        "\n",
        "  elif key<node.key:\n",
        "    node.left=insert(node.left,key,value)\n",
        "    node.left.parent=node\n",
        "  elif key>node.key:\n",
        "    node.rightj=insert(node.right,key,value)\n",
        "    node.right.parent=node\n",
        "  return node\n",
        "\n"
      ],
      "metadata": {
        "id": "EVaenQiGXHzn"
      },
      "execution_count": null,
      "outputs": []
    }
  ]
}