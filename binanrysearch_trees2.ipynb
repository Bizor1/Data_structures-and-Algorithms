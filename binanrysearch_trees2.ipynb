{
  "nbformat": 4,
  "nbformat_minor": 0,
  "metadata": {
    "colab": {
      "provenance": [],
      "authorship_tag": "ABX9TyPFgCu56OgRR7lJ+WXiQE5N",
      "include_colab_link": true
    },
    "kernelspec": {
      "name": "python3",
      "display_name": "Python 3"
    },
    "language_info": {
      "name": "python"
    }
  },
  "cells": [
    {
      "cell_type": "markdown",
      "metadata": {
        "id": "view-in-github",
        "colab_type": "text"
      },
      "source": [
        "<a href=\"https://colab.research.google.com/github/Bizor1/Data_structures-and-Algorithms/blob/main/binanrysearch_trees2.ipynb\" target=\"_parent\"><img src=\"https://colab.research.google.com/assets/colab-badge.svg\" alt=\"Open In Colab\"/></a>"
      ]
    },
    {
      "cell_type": "code",
      "execution_count": 1,
      "metadata": {
        "id": "Z6IXYjyh2dbE"
      },
      "outputs": [],
      "source": [
        "class User:\n",
        "  def __init__(self,username,name,mail):\n",
        "    self.username=username\n",
        "    self.name=name\n",
        "    self.mail=mail\n",
        "\n",
        "  def __repr__(self):\n",
        "      return \"User(username='{}', name='{}', email='{}')\".format(self.username, self.name, self.mail)\n",
        "\n",
        "  def ___str__(self):\n",
        "    return self.__repr__()\n",
        "\n",
        "\n",
        "\n",
        "\n"
      ]
    },
    {
      "cell_type": "code",
      "source": [
        "user1=User('Johnd','jOHN doe','jd@gmail.com')\n",
        "user1"
      ],
      "metadata": {
        "colab": {
          "base_uri": "https://localhost:8080/"
        },
        "id": "dHC6SI-U7-fa",
        "outputId": "ce271f77-da68-48d1-9486-c7e5ff5d697c"
      },
      "execution_count": 2,
      "outputs": [
        {
          "output_type": "execute_result",
          "data": {
            "text/plain": [
              "User(username='Johnd', name='jOHN doe', email='jd@gmail.com')"
            ]
          },
          "metadata": {},
          "execution_count": 2
        }
      ]
    },
    {
      "cell_type": "code",
      "source": [
        "user1"
      ],
      "metadata": {
        "colab": {
          "base_uri": "https://localhost:8080/"
        },
        "id": "-ra8lJnl8NAx",
        "outputId": "9d8a41cf-e39b-4865-a5b7-e6ae82e3d41d"
      },
      "execution_count": 3,
      "outputs": [
        {
          "output_type": "execute_result",
          "data": {
            "text/plain": [
              "User(username='Johnd', name='jOHN doe', email='jd@gmail.com')"
            ]
          },
          "metadata": {},
          "execution_count": 3
        }
      ]
    },
    {
      "cell_type": "code",
      "source": [
        "class UserDatabase:\n",
        "  def insert(self,user):\n",
        "    pass\n",
        "\n",
        "  def find(self,username):\n",
        "    pass\n",
        "\n",
        "  def update(self,user):\n",
        "    pass\n",
        "  \n",
        "  def list_all():\n",
        "    pass"
      ],
      "metadata": {
        "id": "gOG40wqH-aDy"
      },
      "execution_count": 4,
      "outputs": []
    },
    {
      "cell_type": "code",
      "source": [
        "aakash = User('aakash', 'Aakash Rai', 'aakash@example.com')\n",
        "biraj = User('biraj', 'Biraj Das', 'biraj@example.com')\n",
        "hemanth = User('hemanth', 'Hemanth Jain', 'hemanth@example.com')\n",
        "jadhesh = User('jadhesh', 'Jadhesh Verma', 'jadhesh@example.com')\n",
        "siddhant = User('siddhant', 'Siddhant Sinha', 'siddhant@example.com')\n",
        "sonaksh = User('sonaksh', 'Sonaksh Kumar', 'sonaksh@example.com')\n",
        "vishal = User('vishal', 'Vishal Goel', 'vishal@example.com')"
      ],
      "metadata": {
        "id": "WIJWZRa7APIy"
      },
      "execution_count": 5,
      "outputs": []
    },
    {
      "cell_type": "code",
      "source": [
        "users=[aakash,biraj,hemanth,jadhesh,siddhant,sonaksh,vishal]\n",
        "\n",
        "users_names=[]\n",
        "\n",
        "for user in users:\n",
        "  users_names.append(user.name)\n",
        "\n",
        "\n",
        "print(users_names)\n",
        "\n",
        "\n"
      ],
      "metadata": {
        "colab": {
          "base_uri": "https://localhost:8080/"
        },
        "id": "m69gyOnEARg9",
        "outputId": "03bd2f6a-5235-4782-dd44-7d980e2b5cc8"
      },
      "execution_count": 6,
      "outputs": [
        {
          "output_type": "stream",
          "name": "stdout",
          "text": [
            "['Aakash Rai', 'Biraj Das', 'Hemanth Jain', 'Jadhesh Verma', 'Siddhant Sinha', 'Sonaksh Kumar', 'Vishal Goel']\n"
          ]
        }
      ]
    },
    {
      "cell_type": "code",
      "source": [
        "print(users)"
      ],
      "metadata": {
        "colab": {
          "base_uri": "https://localhost:8080/"
        },
        "id": "Ic3z22gLBJ31",
        "outputId": "7d46ad51-81f1-4e33-a815-479fd2ddbebf"
      },
      "execution_count": 7,
      "outputs": [
        {
          "output_type": "stream",
          "name": "stdout",
          "text": [
            "[User(username='aakash', name='Aakash Rai', email='aakash@example.com'), User(username='biraj', name='Biraj Das', email='biraj@example.com'), User(username='hemanth', name='Hemanth Jain', email='hemanth@example.com'), User(username='jadhesh', name='Jadhesh Verma', email='jadhesh@example.com'), User(username='siddhant', name='Siddhant Sinha', email='siddhant@example.com'), User(username='sonaksh', name='Sonaksh Kumar', email='sonaksh@example.com'), User(username='vishal', name='Vishal Goel', email='vishal@example.com')]\n"
          ]
        }
      ]
    },
    {
      "cell_type": "code",
      "source": [
        "print('aakash'>'jadhesh')"
      ],
      "metadata": {
        "colab": {
          "base_uri": "https://localhost:8080/"
        },
        "id": "eBnKvTSBEAVp",
        "outputId": "4fb55858-e648-4d59-9f43-9bb8ea726023"
      },
      "execution_count": 8,
      "outputs": [
        {
          "output_type": "stream",
          "name": "stdout",
          "text": [
            "False\n"
          ]
        }
      ]
    },
    {
      "cell_type": "code",
      "source": [
        "class UserDatabase:\n",
        "  def __init__(self):\n",
        "    self.users=[]\n",
        "\n",
        " \n",
        "\n",
        "  def insert(self,user):\n",
        "    i=0\n",
        "    while i<len(self.users):\n",
        "      if self.users[i].username[i]> user.username:\n",
        "        break\n",
        "      \n",
        "      i+=1\n",
        "\n",
        "    self.users.insert(i,user)\n",
        "  \n",
        "\n",
        "  def find(self,username):\n",
        "    for user in self.users:\n",
        "      if user.username==username:\n",
        "        return user\n",
        "\n",
        "  \n",
        "  def update(self,user):\n",
        "    target=self.find(user.username)\n",
        "    target.name,target.mail=user.name,user.mail\n",
        "\n",
        "\n",
        "  def list_all(self):\n",
        "    return self.users\n",
        "\n",
        "\n",
        "    \n",
        "\n",
        "\n",
        "      \n",
        "    \n"
      ],
      "metadata": {
        "id": "4xI--8U0E_Lb"
      },
      "execution_count": 9,
      "outputs": []
    },
    {
      "cell_type": "code",
      "source": [
        "database=UserDatabase()\n",
        "\n"
      ],
      "metadata": {
        "id": "A-uymoaeIzt2"
      },
      "execution_count": 10,
      "outputs": []
    },
    {
      "cell_type": "code",
      "source": [
        "\n",
        "\n"
      ],
      "metadata": {
        "id": "TUW_uvLBNBCS"
      },
      "execution_count": 10,
      "outputs": []
    },
    {
      "cell_type": "code",
      "source": [],
      "metadata": {
        "id": "-_CcoFXRN-Ba"
      },
      "execution_count": 10,
      "outputs": []
    },
    {
      "cell_type": "code",
      "source": [
        "database.insert(hemanth)\n",
        "database.insert(aakash)\n",
        "database.insert(siddhant)"
      ],
      "metadata": {
        "id": "5Qxi3PNEVzHP"
      },
      "execution_count": 11,
      "outputs": []
    },
    {
      "cell_type": "code",
      "source": [
        "database.users"
      ],
      "metadata": {
        "colab": {
          "base_uri": "https://localhost:8080/"
        },
        "id": "KcxG8kJTWka7",
        "outputId": "43e2383d-6a17-4904-c068-83de844925f1"
      },
      "execution_count": 12,
      "outputs": [
        {
          "output_type": "execute_result",
          "data": {
            "text/plain": [
              "[User(username='aakash', name='Aakash Rai', email='aakash@example.com'),\n",
              " User(username='hemanth', name='Hemanth Jain', email='hemanth@example.com'),\n",
              " User(username='siddhant', name='Siddhant Sinha', email='siddhant@example.com')]"
            ]
          },
          "metadata": {},
          "execution_count": 12
        }
      ]
    },
    {
      "cell_type": "code",
      "source": [
        "user = database.find('siddhant')\n",
        "user"
      ],
      "metadata": {
        "colab": {
          "base_uri": "https://localhost:8080/"
        },
        "id": "Qsn7ekeIaD0F",
        "outputId": "6f23eb76-8da0-49d7-9aca-8ebafa45e849"
      },
      "execution_count": 13,
      "outputs": [
        {
          "output_type": "execute_result",
          "data": {
            "text/plain": [
              "User(username='siddhant', name='Siddhant Sinha', email='siddhant@example.com')"
            ]
          },
          "metadata": {},
          "execution_count": 13
        }
      ]
    },
    {
      "cell_type": "code",
      "source": [
        "database.list_all()"
      ],
      "metadata": {
        "colab": {
          "base_uri": "https://localhost:8080/"
        },
        "id": "BDAa-jIjaEAG",
        "outputId": "f3417c1c-77d8-4e45-eedc-af90fe5c7b37"
      },
      "execution_count": 14,
      "outputs": [
        {
          "output_type": "execute_result",
          "data": {
            "text/plain": [
              "[User(username='aakash', name='Aakash Rai', email='aakash@example.com'),\n",
              " User(username='hemanth', name='Hemanth Jain', email='hemanth@example.com'),\n",
              " User(username='siddhant', name='Siddhant Sinha', email='siddhant@example.com')]"
            ]
          },
          "metadata": {},
          "execution_count": 14
        }
      ]
    },
    {
      "cell_type": "code",
      "source": [
        "class TreeNode:\n",
        "  def __init__(self,key):\n",
        "    self.key=key\n",
        "    self.right=None\n",
        "    self.left=None"
      ],
      "metadata": {
        "id": "6Z9JHjlPaQfM"
      },
      "execution_count": 15,
      "outputs": []
    },
    {
      "cell_type": "code",
      "source": [
        "node0=TreeNode(3)\n",
        "node1=TreeNode(4)\n",
        "node2=TreeNode(5)\n",
        "\n",
        "node0.left=node1\n",
        "node0.right=node2\n"
      ],
      "metadata": {
        "id": "KIY4S-MaafcX"
      },
      "execution_count": 16,
      "outputs": []
    },
    {
      "cell_type": "code",
      "source": [
        "tree=node0"
      ],
      "metadata": {
        "id": "pFVHKixabe4_"
      },
      "execution_count": 17,
      "outputs": []
    },
    {
      "cell_type": "code",
      "source": [
        "tree.left.key"
      ],
      "metadata": {
        "colab": {
          "base_uri": "https://localhost:8080/"
        },
        "id": "7SrH4M3qbhyC",
        "outputId": "fa90a06c-c01b-4068-819c-3e13b57833a5"
      },
      "execution_count": 18,
      "outputs": [
        {
          "output_type": "execute_result",
          "data": {
            "text/plain": [
              "4"
            ]
          },
          "metadata": {},
          "execution_count": 18
        }
      ]
    },
    {
      "cell_type": "code",
      "source": [
        "tree_tuple=((1,3,None),2,((None,3,4),5,(6,7,8)))"
      ],
      "metadata": {
        "id": "LPKDyrLIcNws"
      },
      "execution_count": 19,
      "outputs": []
    },
    {
      "cell_type": "code",
      "source": [
        "def parse_tuple(data):\n",
        "  if isinstance(data,tuple) and len(data)==3:\n",
        "    node=TreeNode(data[1])\n",
        "    node.left=parse_tuple(data[0])\n",
        "    node.right=parse_tuple(data[2])\n",
        "\n",
        "  elif data==None:\n",
        "    node=None\n",
        "\n",
        "  else:\n",
        "    node=TreeNode(data)\n",
        "  \n",
        "  return node\n"
      ],
      "metadata": {
        "id": "yPeZ6uwxdk3I"
      },
      "execution_count": 20,
      "outputs": []
    },
    {
      "cell_type": "code",
      "source": [
        "def parse_tuple(data):\n",
        "  if isinstance(data,tuple) and len(data)==3:\n",
        "    node=TreeNode(data[1])\n",
        "    node.left=parse_tuple(data[0])\n",
        "    node.right=parse_tuple(data[2])\n",
        "\n",
        "  elif data==None:\n",
        "    node=None\n",
        "  else:\n",
        "    node=TreeNode(data)\n",
        "\n",
        "  return node"
      ],
      "metadata": {
        "id": "r1h1sLGafdJ2"
      },
      "execution_count": 21,
      "outputs": []
    },
    {
      "cell_type": "code",
      "source": [
        "tree2 = parse_tuple(((1,3,None), 2, ((None, 3, 4), 5, (6, 7, 8))))"
      ],
      "metadata": {
        "id": "Q69Xn2AJf9SE"
      },
      "execution_count": 22,
      "outputs": []
    },
    {
      "cell_type": "code",
      "source": [
        "tree2"
      ],
      "metadata": {
        "colab": {
          "base_uri": "https://localhost:8080/"
        },
        "id": "XEedZuhViIAU",
        "outputId": "a71499d7-fd25-4303-da5f-e05bbafa8f80"
      },
      "execution_count": 23,
      "outputs": [
        {
          "output_type": "execute_result",
          "data": {
            "text/plain": [
              "<__main__.TreeNode at 0x7f56b12508e0>"
            ]
          },
          "metadata": {},
          "execution_count": 23
        }
      ]
    },
    {
      "cell_type": "code",
      "source": [
        "tree2.key"
      ],
      "metadata": {
        "colab": {
          "base_uri": "https://localhost:8080/"
        },
        "id": "aA6gjxKGibM4",
        "outputId": "9335efe0-a1b9-49a5-83c9-5c95dd380d59"
      },
      "execution_count": 24,
      "outputs": [
        {
          "output_type": "execute_result",
          "data": {
            "text/plain": [
              "2"
            ]
          },
          "metadata": {},
          "execution_count": 24
        }
      ]
    },
    {
      "cell_type": "code",
      "source": [
        "tree2.left.key,tree2.right.key"
      ],
      "metadata": {
        "colab": {
          "base_uri": "https://localhost:8080/"
        },
        "id": "_SO-vktFigr2",
        "outputId": "c5c2c64a-054b-4e77-c8cd-7c152a8e1cfe"
      },
      "execution_count": 25,
      "outputs": [
        {
          "output_type": "execute_result",
          "data": {
            "text/plain": [
              "(3, 5)"
            ]
          },
          "metadata": {},
          "execution_count": 25
        }
      ]
    },
    {
      "cell_type": "code",
      "source": [
        "def display_keys(node,space='\\t',level=0):\n",
        "  if node is None:\n",
        "    print(space * level+'@')\n",
        "    return\n",
        "\n",
        "  if node.left is None and node.right is None:\n",
        "    print(space*level+str(node.key)) \n",
        "    return\n",
        "\n",
        "  display_keys(node.right,space,level+1)\n",
        "  print(space*level + str(node.key))\n",
        "  display_keys(node.left,space,level+1)\n",
        "\n",
        "\n",
        "\n",
        "\n",
        "  "
      ],
      "metadata": {
        "id": "TJrzyQjLxPM6"
      },
      "execution_count": 26,
      "outputs": []
    },
    {
      "cell_type": "code",
      "source": [
        "def display_keys(node, space='\\t', level=0):\n",
        "    # print(node.key if node else None, level)\n",
        "    \n",
        "    # If the node is empty\n",
        "    if node is None:\n",
        "        print(space*level + '∅')\n",
        "        return   \n",
        "    \n",
        "    # If the node is a leaf \n",
        "    if node.left is None and node.right is None:\n",
        "        print(space*level + str(node.key))\n",
        "        return\n",
        "    \n",
        "    # If the node has children\n",
        "    display_keys(node.right, space, level+1)\n",
        "    print(space*level + str(node.key))\n",
        "    display_keys(node.left,space, level+1)    \n",
        "    "
      ],
      "metadata": {
        "id": "UpFJfQx74K8p"
      },
      "execution_count": 27,
      "outputs": []
    },
    {
      "cell_type": "code",
      "source": [
        "display_keys(tree2,'       ')"
      ],
      "metadata": {
        "colab": {
          "base_uri": "https://localhost:8080/"
        },
        "id": "o_FORS8KSqEK",
        "outputId": "07da15f4-55ba-4942-b452-42fb3a639c1b"
      },
      "execution_count": 28,
      "outputs": [
        {
          "output_type": "stream",
          "name": "stdout",
          "text": [
            "                     8\n",
            "              7\n",
            "                     6\n",
            "       5\n",
            "                     4\n",
            "              3\n",
            "                     ∅\n",
            "2\n",
            "              ∅\n",
            "       3\n",
            "              1\n"
          ]
        }
      ]
    },
    {
      "cell_type": "code",
      "source": [
        "def traverse_in_order(node):\n",
        "  if node is None:\n",
        "    return []\n",
        "\n",
        "  return (traverse_in_order(node.left)+ [node.key]+ traverse_in_order(node.right))\n",
        "\n"
      ],
      "metadata": {
        "id": "Mk26TfWAS_UD"
      },
      "execution_count": 29,
      "outputs": []
    },
    {
      "cell_type": "code",
      "source": [
        "traverse_in_order(tree2)"
      ],
      "metadata": {
        "colab": {
          "base_uri": "https://localhost:8080/"
        },
        "id": "3MUre6E1IKvx",
        "outputId": "1e7ef729-638e-4567-8026-7a1b1dc7c3fe"
      },
      "execution_count": 30,
      "outputs": [
        {
          "output_type": "execute_result",
          "data": {
            "text/plain": [
              "[1, 3, 2, 3, 4, 5, 6, 7, 8]"
            ]
          },
          "metadata": {},
          "execution_count": 30
        }
      ]
    },
    {
      "cell_type": "code",
      "source": [
        "def tree_height(node):\n",
        "  if node is None:\n",
        "    return 0\n",
        "\n",
        "\n",
        "  return 1+ max(tree_height(node.left),tree_height(node.right))"
      ],
      "metadata": {
        "id": "NRrn-LvRIon_"
      },
      "execution_count": 31,
      "outputs": []
    },
    {
      "cell_type": "code",
      "source": [
        "tree_height(tree2)"
      ],
      "metadata": {
        "colab": {
          "base_uri": "https://localhost:8080/"
        },
        "id": "kenuK0f2JSNK",
        "outputId": "ed5a0e5e-fd51-430e-96b7-bc4f05ea96ed"
      },
      "execution_count": 32,
      "outputs": [
        {
          "output_type": "execute_result",
          "data": {
            "text/plain": [
              "4"
            ]
          },
          "metadata": {},
          "execution_count": 32
        }
      ]
    },
    {
      "cell_type": "code",
      "source": [
        "def tree_size(node):\n",
        "  if node is None:\n",
        "    return 0\n",
        "  return 1+ tree_size(node.left) +tree_size(node.right)"
      ],
      "metadata": {
        "id": "X58GeelLJint"
      },
      "execution_count": 33,
      "outputs": []
    },
    {
      "cell_type": "code",
      "source": [
        "class TreeNode():\n",
        "    def __init__(self, key):\n",
        "        self.key, self.left, self.right = key, None, None\n",
        "    \n",
        "    def height(self):\n",
        "        if self is None:\n",
        "            return 0\n",
        "        return 1 + max(TreeNode.height(self.left), TreeNode.height(self.right))\n",
        "    \n",
        "    def size(self):\n",
        "        if self is None:\n",
        "            return 0\n",
        "        return 1 + TreeNode.size(self.left) + TreeNode.size(self.right)\n",
        "\n",
        "    def traverse_in_order(self):\n",
        "        if self is None: \n",
        "            return []\n",
        "        return (TreeNode.traverse_in_order(self.left) + \n",
        "                [self.key] + \n",
        "                TreeNode.traverse_in_order(self.right))\n",
        "    \n",
        "    def display_keys(self, space='\\t', level=0):\n",
        "        # If the node is empty\n",
        "        if self is None:\n",
        "            print(space*level + '∅')\n",
        "            return   \n",
        "\n",
        "        # If the node is a leaf \n",
        "        if self.left is None and self.right is None:\n",
        "            print(space*level + str(self.key))\n",
        "            return\n",
        "\n",
        "        # If the node has children\n",
        "        display_keys(self.right, space, level+1)\n",
        "        print(space*level + str(self.key))\n",
        "        display_keys(self.left,space, level+1)    \n",
        "    \n",
        "    def to_tuple(self):\n",
        "        if self is None:\n",
        "            return None\n",
        "        if self.left is None and self.right is None:\n",
        "            return self.key\n",
        "        return TreeNode.to_tuple(self.left),  self.key, TreeNode.to_tuple(self.right)\n",
        "    \n",
        "    def __str__(self):\n",
        "        return \"BinaryTree <{}>\".format(self.to_tuple())\n",
        "    \n",
        "    def __repr__(self):\n",
        "        return \"BinaryTree <{}>\".format(self.to_tuple())\n",
        "    \n",
        "    @staticmethod    \n",
        "    def parse_tuple(data):\n",
        "        if data is None:\n",
        "            node = None\n",
        "        elif isinstance(data, tuple) and len(data) == 3:\n",
        "            node = TreeNode(data[1])\n",
        "            node.left = TreeNode.parse_tuple(data[0])\n",
        "            node.right = TreeNode.parse_tuple(data[2])\n",
        "        else:\n",
        "            node = TreeNode(data)\n",
        "        return node"
      ],
      "metadata": {
        "id": "TUCbxS83KgSu"
      },
      "execution_count": 34,
      "outputs": []
    },
    {
      "cell_type": "code",
      "source": [
        "tree_tuple"
      ],
      "metadata": {
        "colab": {
          "base_uri": "https://localhost:8080/"
        },
        "id": "9fRK743HPxXK",
        "outputId": "da54c42d-e70f-4c98-dc5a-1b4feee9e581"
      },
      "execution_count": 35,
      "outputs": [
        {
          "output_type": "execute_result",
          "data": {
            "text/plain": [
              "((1, 3, None), 2, ((None, 3, 4), 5, (6, 7, 8)))"
            ]
          },
          "metadata": {},
          "execution_count": 35
        }
      ]
    },
    {
      "cell_type": "code",
      "source": [
        "tree= TreeNode.parse_tuple(tree_tuple)"
      ],
      "metadata": {
        "id": "PiNneu2cQTlK"
      },
      "execution_count": 36,
      "outputs": []
    },
    {
      "cell_type": "code",
      "source": [
        "tree"
      ],
      "metadata": {
        "colab": {
          "base_uri": "https://localhost:8080/"
        },
        "id": "0Uu_99vsQlU-",
        "outputId": "83e8f0a8-fcf4-411d-f2c8-15d04cc0de5c"
      },
      "execution_count": 37,
      "outputs": [
        {
          "output_type": "execute_result",
          "data": {
            "text/plain": [
              "BinaryTree <((1, 3, None), 2, ((None, 3, 4), 5, (6, 7, 8)))>"
            ]
          },
          "metadata": {},
          "execution_count": 37
        }
      ]
    },
    {
      "cell_type": "code",
      "source": [
        "tree.display_keys('  ')"
      ],
      "metadata": {
        "colab": {
          "base_uri": "https://localhost:8080/"
        },
        "id": "mLPrFbFKQpE_",
        "outputId": "db4c5915-9b65-4046-e668-6c6660c7bd95"
      },
      "execution_count": 38,
      "outputs": [
        {
          "output_type": "stream",
          "name": "stdout",
          "text": [
            "      8\n",
            "    7\n",
            "      6\n",
            "  5\n",
            "      4\n",
            "    3\n",
            "      ∅\n",
            "2\n",
            "    ∅\n",
            "  3\n",
            "    1\n"
          ]
        }
      ]
    },
    {
      "cell_type": "code",
      "source": [
        "\n",
        "def remove_none(nums):\n",
        "  return [x for x in nums if x is not None]\n",
        "\n",
        "def is_bst(node):\n",
        "  if node is None:\n",
        "    return True ,None ,None\n",
        "\n",
        "  is_bst_l,min_l,max_l=is_bst(node.left)\n",
        "  is_bst_r,min_r,max_r=is_bst(node.right)\n",
        "\n",
        "  is_bst_node=(is_bst_l and is_bst_r and (max_l is None or node.key > max_l) and (min_r is None or node.key < min_r))\n",
        "\n",
        "  min_key=min(remove_none([min_l,node.key,min_r]))\n",
        "  max_key=max(remove_none([max_l,node.key,max_r]))\n",
        "\n",
        "\n",
        "  return is_bst_node,min_key,max_key\n",
        "\n",
        "  \n",
        "\n",
        "\n",
        "\n",
        "\n",
        "  \n",
        "\n",
        "\n",
        "\n",
        "\n",
        "\n",
        "\n",
        "\n"
      ],
      "metadata": {
        "id": "iJDg8Cm1QrlW"
      },
      "execution_count": 39,
      "outputs": []
    },
    {
      "cell_type": "code",
      "source": [
        "tree1 = TreeNode.parse_tuple(((1, 3, None), 2, ((None, 3, 4), 5, (6, 7, 8))))"
      ],
      "metadata": {
        "id": "JOhoDxpgIUH1"
      },
      "execution_count": 40,
      "outputs": []
    },
    {
      "cell_type": "code",
      "source": [
        "tree2 = TreeNode.parse_tuple((('aakash', 'biraj', 'hemanth')  , 'jadhesh', ('siddhant', 'sonaksh', 'vishal')))"
      ],
      "metadata": {
        "id": "1devZzmWIYYA"
      },
      "execution_count": 41,
      "outputs": []
    },
    {
      "cell_type": "code",
      "source": [
        "is_bst(tree2)"
      ],
      "metadata": {
        "id": "KoAS2zDfIbH3",
        "outputId": "ba2b7893-992d-42d1-d514-a1531053d2d4",
        "colab": {
          "base_uri": "https://localhost:8080/"
        }
      },
      "execution_count": 42,
      "outputs": [
        {
          "output_type": "execute_result",
          "data": {
            "text/plain": [
              "(True, 'aakash', 'vishal')"
            ]
          },
          "metadata": {},
          "execution_count": 42
        }
      ]
    },
    {
      "cell_type": "code",
      "source": [
        "is_bst(tree1)"
      ],
      "metadata": {
        "id": "1edxj6u6JPdZ",
        "outputId": "3987f642-8a2d-4185-9ae6-6d5053e803a6",
        "colab": {
          "base_uri": "https://localhost:8080/"
        }
      },
      "execution_count": 43,
      "outputs": [
        {
          "output_type": "execute_result",
          "data": {
            "text/plain": [
              "(False, 1, 8)"
            ]
          },
          "metadata": {},
          "execution_count": 43
        }
      ]
    },
    {
      "cell_type": "code",
      "source": [
        "class BSTNode:\n",
        "  def __init__(self,key,value=None):\n",
        "    self.key=key\n",
        "    self.value=value\n",
        "    self.right=None\n",
        "    self.left=None\n",
        "    self.parent=None"
      ],
      "metadata": {
        "id": "XRm_tfn9Kkis"
      },
      "execution_count": 44,
      "outputs": []
    },
    {
      "cell_type": "code",
      "source": [
        "def insert(node,key,value):\n",
        "  if node is None:\n",
        "    return BSTNode(key,value)\n",
        "  if key<node.key:\n",
        "    node.left=insert(node.left,key,value)\n",
        "    node.left.parent=node\n",
        "  if key>node.key:\n",
        "    node.right=insert(node.right,key,value)\n",
        "    node.right.parent=node\n",
        "\n",
        "  return node"
      ],
      "metadata": {
        "id": "HwlrxJnLMaAa"
      },
      "execution_count": 45,
      "outputs": []
    },
    {
      "cell_type": "code",
      "source": [
        "def insert(node,key,value):\n",
        "  if node is None:\n",
        "    node=BSTNode(key,value)\n",
        "  elif key< node.key:\n",
        "    node.left=insert(node.left,key,value)\n",
        "    node.left.parent=node\n",
        "\n",
        "  elif key>node.key:\n",
        "    node.right=insert(node.right,key,value)\n",
        "    node.right.parent=node\n",
        "\n",
        "  return node\n",
        "\n",
        "  \n",
        "\n",
        "    \n",
        "\n"
      ],
      "metadata": {
        "id": "z9kFba39TP7N"
      },
      "execution_count": 46,
      "outputs": []
    },
    {
      "cell_type": "code",
      "source": [
        "tree = insert(None, jadhesh.username, jadhesh)"
      ],
      "metadata": {
        "id": "BQPASbDjVbON"
      },
      "execution_count": 47,
      "outputs": []
    },
    {
      "cell_type": "code",
      "source": [
        "insert(tree, biraj.username, biraj)\n",
        "insert(tree, sonaksh.username, sonaksh)\n",
        "insert(tree, aakash.username, aakash)\n",
        "insert(tree, hemanth.username, hemanth)\n",
        "insert(tree, siddhant.username, siddhant)\n",
        "insert(tree, vishal.username, siddhant)"
      ],
      "metadata": {
        "id": "fe-p6S8IVelP",
        "outputId": "b5abb747-bdf5-47a5-b819-5fe24bc4ae1a",
        "colab": {
          "base_uri": "https://localhost:8080/"
        }
      },
      "execution_count": 48,
      "outputs": [
        {
          "output_type": "execute_result",
          "data": {
            "text/plain": [
              "<__main__.BSTNode at 0x7f56937c2e50>"
            ]
          },
          "metadata": {},
          "execution_count": 48
        }
      ]
    },
    {
      "cell_type": "code",
      "source": [
        "display_keys(tree)"
      ],
      "metadata": {
        "id": "OiFlfcG0VkK3",
        "outputId": "edd64f47-6ddf-4615-f45e-663d7adfeaf0",
        "colab": {
          "base_uri": "https://localhost:8080/"
        }
      },
      "execution_count": 49,
      "outputs": [
        {
          "output_type": "stream",
          "name": "stdout",
          "text": [
            "\t\tvishal\n",
            "\tsonaksh\n",
            "\t\tsiddhant\n",
            "jadhesh\n",
            "\t\themanth\n",
            "\tbiraj\n",
            "\t\taakash\n"
          ]
        }
      ]
    },
    {
      "cell_type": "code",
      "source": [
        "tree2 = insert(None, aakash.username, aakash)\n",
        "insert(tree2, biraj.username, biraj)\n",
        "insert(tree2, hemanth.username, hemanth)\n",
        "insert(tree2, jadhesh.username, jadhesh)\n",
        "insert(tree2, siddhant.username, siddhant)\n",
        "insert(tree2, sonaksh.username, sonaksh)\n",
        "insert(tree2, vishal.username, vishal)"
      ],
      "metadata": {
        "id": "gePEboGeV9QX",
        "outputId": "43fdc32c-2e94-4cbf-b230-92b1c08b588f",
        "colab": {
          "base_uri": "https://localhost:8080/"
        }
      },
      "execution_count": 50,
      "outputs": [
        {
          "output_type": "execute_result",
          "data": {
            "text/plain": [
              "<__main__.BSTNode at 0x7f56937da8b0>"
            ]
          },
          "metadata": {},
          "execution_count": 50
        }
      ]
    },
    {
      "cell_type": "code",
      "source": [
        "display_keys(tree2)"
      ],
      "metadata": {
        "id": "BnsIyFy_WlfQ",
        "outputId": "94fe1426-5c2e-4a89-fde3-bb20b0e8765e",
        "colab": {
          "base_uri": "https://localhost:8080/"
        }
      },
      "execution_count": 51,
      "outputs": [
        {
          "output_type": "stream",
          "name": "stdout",
          "text": [
            "\t\t\t\t\t\tvishal\n",
            "\t\t\t\t\tsonaksh\n",
            "\t\t\t\t\t\t∅\n",
            "\t\t\t\tsiddhant\n",
            "\t\t\t\t\t∅\n",
            "\t\t\tjadhesh\n",
            "\t\t\t\t∅\n",
            "\t\themanth\n",
            "\t\t\t∅\n",
            "\tbiraj\n",
            "\t\t∅\n",
            "aakash\n",
            "\t∅\n"
          ]
        }
      ]
    },
    {
      "cell_type": "code",
      "source": [
        "def insert(node,key,value):\n",
        "  if node is None:\n",
        "    node=BSTNode(key,value)\n",
        "\n",
        "  elif key<node.key:\n",
        "    node.left=insert(node.left,key,value)\n",
        "    node.left.parent=node\n",
        "  elif key>node.key:\n",
        "    node.rightj=insert(node.right,key,value)\n",
        "    node.right.parent=node\n",
        "  return node\n",
        "\n"
      ],
      "metadata": {
        "id": "EVaenQiGXHzn"
      },
      "execution_count": 52,
      "outputs": []
    },
    {
      "cell_type": "code",
      "source": [
        "def insert(node,key):\n",
        "  if node is None:\n",
        "    node = BSTNode(key)\n",
        "  elif key<node.key:\n",
        "    node.left=insert(node.left,key)\n",
        "    node.left.parent=node\n",
        "  elif key> node.key:\n",
        "    node.right=insert(node.right,key,)\n",
        "    node.right.parent=node\n",
        "  return node\n"
      ],
      "metadata": {
        "id": "cp3ZOJTNPaet"
      },
      "execution_count": 56,
      "outputs": []
    },
    {
      "cell_type": "code",
      "source": [
        "def find(node,key):\n",
        "  if node is None:\n",
        "    return None\n",
        "\n",
        "  if key==node.key:\n",
        "    return node\n",
        "  elif key>node.key:\n",
        "    return find(node.right,key)\n",
        "  elif key<node.key:\n",
        "    return find(node.left,key)\n"
      ],
      "metadata": {
        "id": "izn2v2GnTNmF"
      },
      "execution_count": 57,
      "outputs": []
    },
    {
      "cell_type": "code",
      "source": [
        "node=find(tree,'hemanth')"
      ],
      "metadata": {
        "id": "fmKBPC3yWNNL"
      },
      "execution_count": 58,
      "outputs": []
    },
    {
      "cell_type": "code",
      "source": [
        "node"
      ],
      "metadata": {
        "id": "T5NclFN6Wm_e",
        "outputId": "130289f1-fe38-4f88-cb91-a80670b68ea7",
        "colab": {
          "base_uri": "https://localhost:8080/"
        }
      },
      "execution_count": 59,
      "outputs": [
        {
          "output_type": "execute_result",
          "data": {
            "text/plain": [
              "<__main__.BSTNode at 0x7f56b1250490>"
            ]
          },
          "metadata": {},
          "execution_count": 59
        }
      ]
    },
    {
      "cell_type": "code",
      "source": [
        "node.key"
      ],
      "metadata": {
        "id": "cF2p3KdFYwxH",
        "outputId": "d8d576c8-d19e-4f88-db69-c82881b8453b",
        "colab": {
          "base_uri": "https://localhost:8080/",
          "height": 35
        }
      },
      "execution_count": 61,
      "outputs": [
        {
          "output_type": "execute_result",
          "data": {
            "text/plain": [
              "'hemanth'"
            ],
            "application/vnd.google.colaboratory.intrinsic+json": {
              "type": "string"
            }
          },
          "metadata": {},
          "execution_count": 61
        }
      ]
    },
    {
      "cell_type": "code",
      "source": [
        "def update(node,key,value):\n",
        "  target=find(node,key)\n",
        "  if target is not None:\n",
        "    target.value=value"
      ],
      "metadata": {
        "id": "t15CyT4HY5Ju"
      },
      "execution_count": 62,
      "outputs": []
    },
    {
      "cell_type": "code",
      "source": [
        "update(tree, 'hemanth', User('hemanth', 'Hemanth J', 'hemanthj@example.com'))"
      ],
      "metadata": {
        "id": "FMWNMS6WaD12"
      },
      "execution_count": 63,
      "outputs": []
    },
    {
      "cell_type": "code",
      "source": [
        "node = find(tree, 'hemanth')\n",
        "node.value"
      ],
      "metadata": {
        "id": "aZsNpbLIhDuG",
        "outputId": "1e175058-8891-40f7-b6d5-9b7ed8c73fa7",
        "colab": {
          "base_uri": "https://localhost:8080/"
        }
      },
      "execution_count": 64,
      "outputs": [
        {
          "output_type": "execute_result",
          "data": {
            "text/plain": [
              "User(username='hemanth', name='Hemanth J', email='hemanthj@example.com')"
            ]
          },
          "metadata": {},
          "execution_count": 64
        }
      ]
    },
    {
      "cell_type": "code",
      "source": [
        "def list_all(node):\n",
        "  if node is None:\n",
        "    return []\n",
        "  return list_all(node.left) + [(node.key,node.value)] + list_all(node.right)"
      ],
      "metadata": {
        "id": "cKaENs1JhIet"
      },
      "execution_count": 65,
      "outputs": []
    },
    {
      "cell_type": "code",
      "source": [
        "list_all(tree)"
      ],
      "metadata": {
        "id": "R6OsD7A2jIT2",
        "outputId": "b013da44-6e2d-4185-f160-7e6b6add614c",
        "colab": {
          "base_uri": "https://localhost:8080/"
        }
      },
      "execution_count": 66,
      "outputs": [
        {
          "output_type": "execute_result",
          "data": {
            "text/plain": [
              "[('aakash',\n",
              "  User(username='aakash', name='Aakash Rai', email='aakash@example.com')),\n",
              " ('biraj',\n",
              "  User(username='biraj', name='Biraj Das', email='biraj@example.com')),\n",
              " ('hemanth',\n",
              "  User(username='hemanth', name='Hemanth J', email='hemanthj@example.com')),\n",
              " ('jadhesh',\n",
              "  User(username='jadhesh', name='Jadhesh Verma', email='jadhesh@example.com')),\n",
              " ('siddhant',\n",
              "  User(username='siddhant', name='Siddhant Sinha', email='siddhant@example.com')),\n",
              " ('sonaksh',\n",
              "  User(username='sonaksh', name='Sonaksh Kumar', email='sonaksh@example.com')),\n",
              " ('vishal',\n",
              "  User(username='siddhant', name='Siddhant Sinha', email='siddhant@example.com'))]"
            ]
          },
          "metadata": {},
          "execution_count": 66
        }
      ]
    },
    {
      "cell_type": "code",
      "source": [
        "def is_balanced(node):\n",
        "  if node is None:\n",
        "    return True,0\n",
        "\n",
        "  balanced_l,height_l=is_balanced(node.left)\n",
        "  balanced_r,height_r=is_balanced(node.right)\n",
        "\n",
        "  balanced=balanced_l and balanced_r and abs(height_l - height_r)<=1\n",
        "\n",
        "  height=1+ max(height_l,height_r)\n",
        "\n",
        "  return balanced,height\n"
      ],
      "metadata": {
        "id": "rOB8y4qXnppZ"
      },
      "execution_count": 83,
      "outputs": []
    },
    {
      "cell_type": "code",
      "source": [
        "is_balanced(tree)"
      ],
      "metadata": {
        "id": "I_3rqflpuXZF",
        "outputId": "97f61782-8430-45be-ea38-f0340fa54432",
        "colab": {
          "base_uri": "https://localhost:8080/"
        }
      },
      "execution_count": 84,
      "outputs": [
        {
          "output_type": "execute_result",
          "data": {
            "text/plain": [
              "(True, 3)"
            ]
          },
          "metadata": {},
          "execution_count": 84
        }
      ]
    },
    {
      "cell_type": "code",
      "source": [
        "is_balanced(tree2)"
      ],
      "metadata": {
        "id": "Gt6-6UoSxY9p",
        "outputId": "a9c2337b-382b-4666-e48a-4aa8f8947c52",
        "colab": {
          "base_uri": "https://localhost:8080/"
        }
      },
      "execution_count": 85,
      "outputs": [
        {
          "output_type": "execute_result",
          "data": {
            "text/plain": [
              "(False, 7)"
            ]
          },
          "metadata": {},
          "execution_count": 85
        }
      ]
    }
  ]
}