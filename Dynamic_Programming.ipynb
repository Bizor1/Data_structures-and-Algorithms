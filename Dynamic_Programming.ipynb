{
  "nbformat": 4,
  "nbformat_minor": 0,
  "metadata": {
    "colab": {
      "provenance": [],
      "authorship_tag": "ABX9TyMNG6V2i5uhCDVdeURRM5Hd",
      "include_colab_link": true
    },
    "kernelspec": {
      "name": "python3",
      "display_name": "Python 3"
    },
    "language_info": {
      "name": "python"
    }
  },
  "cells": [
    {
      "cell_type": "markdown",
      "metadata": {
        "id": "view-in-github",
        "colab_type": "text"
      },
      "source": [
        "<a href=\"https://colab.research.google.com/github/Bizor1/Data_structures-and-Algorithms/blob/main/Dynamic_Programming.ipynb\" target=\"_parent\"><img src=\"https://colab.research.google.com/assets/colab-badge.svg\" alt=\"Open In Colab\"/></a>"
      ]
    },
    {
      "cell_type": "code",
      "execution_count": null,
      "metadata": {
        "id": "2yaOwZH8RgmF"
      },
      "outputs": [],
      "source": [
        "T0 = {\n",
        "    'input': {\n",
        "        'seq1': 'serendipitous',\n",
        "        'seq2': 'precipitation'\n",
        "    },\n",
        "    'output': 7\n",
        "}\n",
        "\n",
        "T1 = {\n",
        "    'input': {\n",
        "        'seq1': [1, 3, 5, 6, 7, 2, 5, 2, 3],\n",
        "        'seq2': [6, 2, 4, 7, 1, 5, 6, 2, 3]\n",
        "    },\n",
        "    'output': 5\n",
        "}\n",
        "\n",
        "T2 = {\n",
        "    'input': {\n",
        "        'seq1': 'longest',\n",
        "        'seq2': 'stone'\n",
        "    },\n",
        "    'output': 3\n",
        "}\n",
        "\n",
        "T3 = {\n",
        "    'input': {\n",
        "        'seq1': 'asdfwevad',\n",
        "        'seq2': 'opkpoiklklj'\n",
        "    },\n",
        "    'output': 0\n",
        "}\n",
        "\n",
        "T4 = {\n",
        "    'input': {\n",
        "        'seq1': 'dense',\n",
        "        'seq2': 'condensed'\n",
        "    },\n",
        "    'output': 5\n",
        "}\n",
        "\n",
        "T5 = {\n",
        "    'input': {\n",
        "        'seq1': '',\n",
        "        'seq2': 'opkpoiklklj'\n",
        "    },\n",
        "    'output': 0\n",
        "}\n",
        "\n",
        "T6 = {\n",
        "    'input': {\n",
        "        'seq1': '',\n",
        "        'seq2': ''\n",
        "    },\n",
        "    'output': 0\n",
        "}\n",
        "\n",
        "T7 = {\n",
        "    'input': {\n",
        "        'seq1': 'abcdef',\n",
        "        'seq2': 'badcfe'\n",
        "    },\n",
        "    'output': 3\n",
        "}"
      ]
    },
    {
      "cell_type": "code",
      "source": [
        "def lcs_ercursive(seq1,seq2,idx1=0,idx2=0):\n",
        "  if idx1==len(seq1) or idx2==len(seq2):\n",
        "    return 0\n",
        "\n",
        "  elif seq1[idx]==seq2[idx2]:  \n",
        "    return 1 + lcs_recursive(seq1,seq2,idx1+1,idx2+1)\n",
        "\n",
        "  else:\n",
        "    option1=lcs_recjrsive(seq1,seq2,idx1,idx2+1)\n",
        "    option2=lcs_recursive(seq1,seq2,idx1+1,idx2)\n",
        "    return max(option1,option2)\n",
        "\n",
        "  \n",
        "\n",
        "\n"
      ],
      "metadata": {
        "id": "7T6Y7ke38zHv"
      },
      "execution_count": null,
      "outputs": []
    },
    {
      "cell_type": "code",
      "source": [
        "def lcs_recursive(seq1,seq2,idx1=0,idx2=0):\n",
        "  if idx1==len(seq1) or idx2==len(seq2):\n",
        "    return 0\n",
        "\n",
        "  elif seq1[idx1]== seq2[idx2]:\n",
        "    return 1 + lcs_recursive(seq1,seq2,idx1+1,idx2+1)\n",
        "  else:\n",
        "    option1=lcs_recursive(seq1,seq2,idx1+1,idx2)\n",
        "    option2=lcs_recursive(seq1,seq2,idx1,idx2+1)\n",
        "\n",
        "    return max(option1,option2)"
      ],
      "metadata": {
        "id": "K1rWRb6vjvDD"
      },
      "execution_count": null,
      "outputs": []
    },
    {
      "cell_type": "code",
      "source": [
        "%%time\n",
        "lcs_recursive (**T0['input'])"
      ],
      "metadata": {
        "colab": {
          "base_uri": "https://localhost:8080/"
        },
        "id": "hRetnn48urP2",
        "outputId": "7de9c3fb-4926-496a-91e0-ca65a56b59a2"
      },
      "execution_count": null,
      "outputs": [
        {
          "output_type": "stream",
          "name": "stdout",
          "text": [
            "CPU times: user 612 ms, sys: 6.1 ms, total: 618 ms\n",
            "Wall time: 802 ms\n"
          ]
        },
        {
          "output_type": "execute_result",
          "data": {
            "text/plain": [
              "7"
            ]
          },
          "metadata": {},
          "execution_count": 5
        }
      ]
    },
    {
      "cell_type": "code",
      "source": [
        "def lcs_memo(seq1,seq2):\n",
        "  memo={}\n",
        "  def recurse(idx1=0,idx2=0):\n",
        "    key=(idx1,idx2)\n",
        "    if key in memo:\n",
        "      return memo[key]\n",
        "\n",
        "    elif idx1  == len(seq1) or idx2 ==len(seq2):\n",
        "      memo[key]=0\n",
        "    elif seq1[idx1]== seq2[idx2]:\n",
        "         memo[key]= 1+ recurse(idx1+1,idx2+1)\n",
        "    else:\n",
        "      memo[key] = max(recurse(idx1+1,idx2),recurse(idx1,idx2))\n",
        "      return memo[key]\n",
        "    return recurse(0,0)\n"
      ],
      "metadata": {
        "id": "TH8P4Xskxj5Z"
      },
      "execution_count": null,
      "outputs": []
    },
    {
      "cell_type": "code",
      "source": [
        "def lcs_dp(seq1,seq2):\n",
        "  n1,n2 = len(seq1),len(seq2)\n",
        "  table=[[0 for x in range(n2+1)] for x in range(n+1)]\n",
        "  for i in range(n1):\n",
        "    for j in range(n2):\n",
        "      if seq1[i] == seq2[j]:\n",
        "        table[i+1][j+1] = 1 + table[i][j]\n",
        "      else:\n",
        "        table[i+1][j+1]=max(table[i][j+1],table[i+1][j])\n",
        "\n",
        "  return table[-1][-1]"
      ],
      "metadata": {
        "id": "tGTu9XHpUReE"
      },
      "execution_count": null,
      "outputs": []
    },
    {
      "cell_type": "code",
      "source": [
        "def lcs_dp(seq1,seq2):\n",
        "  n1,n2=len(seq1),len(seq2)\n",
        "  table=[[0 for x in len(n2+1)] for x in len(n1+1)]\n",
        "  for i in range(n1):\n",
        "    for j in range(n2):\n",
        "      if seq1[i]==seq2[j]:\n",
        "        table[i+1][j+1]=1 + table[i][j]\n",
        "      else:\n",
        "        table[i+1][j+1]=max(table[i][j+1],table[i+1][j])\n",
        "    return table[-1][-1]"
      ],
      "metadata": {
        "id": "lAOnGcCEgPkg"
      },
      "execution_count": null,
      "outputs": []
    },
    {
      "cell_type": "code",
      "source": [
        "def lecp_dcp(seq1,seq2):\n",
        "  n1,n2=len(seq1),len(seq2)\n",
        "  table=[[0 for x in range(n2+1)]for x in range(n1+1)]\n",
        "  for i in range(n2):\n",
        "    for j in range(n1):\n",
        "      if seq1[i] ==seq2[j]:\n",
        "        table[i+1][j+1]=1+ table[i][j]\n",
        "      else:\n",
        "        table[i+1][j+1]=max(table[[i+1][j]],table[i][1+j])\n",
        "    return table[-1][-1]\n"
      ],
      "metadata": {
        "id": "0YizvpwooLKv"
      },
      "execution_count": null,
      "outputs": []
    },
    {
      "cell_type": "code",
      "source": [],
      "metadata": {
        "id": "-0wwkdLRRt7j"
      },
      "execution_count": null,
      "outputs": []
    },
    {
      "cell_type": "code",
      "source": [
        "def max_profit_capacity(profits,weights,capacity,idx=0):\n",
        "  if idx==len(weights):\n",
        "    return 0\n",
        "\n",
        "  if weights[idx]>=capacity:\n",
        "    return max_profit_capacity(profits,weights,capacity,idx+1)\n",
        "\n",
        "  else:\n",
        "    option1=max_profit_capacity(profits,weights,capacity,idx+1)\n",
        "    option2=profits[idx] + max_profit_capacity(profits,weights,capacity-weights[idx],idx+1)\n",
        "\n",
        "    return max(option1,option2)"
      ],
      "metadata": {
        "id": "S21DH5e1rrez"
      },
      "execution_count": null,
      "outputs": []
    },
    {
      "cell_type": "code",
      "source": [
        "def max_profit_capacity(profits,weights,capacity,idx=0):\n",
        "  if idx==len(weights):\n",
        "    return 0\n",
        "\n",
        "  elif weights[idx]>=capacity:\n",
        "    return max_profit_capacity(profits,weights,capacity,idx+1)\n",
        "\n",
        "  else:\n",
        "    option1 = max_profit_capacity(profits,weights,capacity,idx+1)\n",
        "    option2 = profits[idx] + max(profits,weights,capacity-weights[idx],idx+1)\n",
        "\n"
      ],
      "metadata": {
        "id": "29fAZ-tNRvFo"
      },
      "execution_count": null,
      "outputs": []
    },
    {
      "cell_type": "code",
      "source": [
        "test0 = {\n",
        "    'input': {\n",
        "        'capacity': 165,\n",
        "        'weights': [23, 31, 29, 44, 53, 38, 63, 85, 89, 82],\n",
        "        'profits': [92, 57, 49, 68, 60, 43, 67, 84, 87, 72]\n",
        "    },\n",
        "    'output': 309\n",
        "}\n",
        "\n",
        "test1 = {\n",
        "    'input': {\n",
        "        'capacity': 3,\n",
        "        'weights': [4, 5, 6],\n",
        "        'profits': [1, 2, 3]\n",
        "    },\n",
        "    'output': 0\n",
        "}\n",
        "\n",
        "test2 = {\n",
        "    'input': {\n",
        "        'capacity': 4,\n",
        "        'weights': [4, 5, 1],\n",
        "        'profits': [1, 2, 3]\n",
        "    },\n",
        "    'output': 3\n",
        "}\n",
        "\n",
        "test3 = {\n",
        "    'input': {\n",
        "        'capacity': 170,\n",
        "        'weights': [41, 50, 49, 59, 55, 57, 60],\n",
        "        'profits': [442, 525, 511, 593, 546, 564, 617]\n",
        "    },\n",
        "    'output': 1735\n",
        "}\n",
        "\n",
        "test4 = {\n",
        "    'input': {\n",
        "        'capacity': 15,\n",
        "        'weights': [4, 5, 6],\n",
        "        'profits': [1, 2, 3]\n",
        "    },\n",
        "    'output': 6\n",
        "}\n",
        "\n",
        "test5 = {\n",
        "    'input': {\n",
        "        'capacity': 15,\n",
        "        'weights': [4, 5, 1, 3, 2, 5],\n",
        "        'profits': [2, 3, 1, 5, 4, 7]\n",
        "    },\n",
        "    'output': 19\n",
        "}"
      ],
      "metadata": {
        "id": "nm0CIBqcUR1P"
      },
      "execution_count": null,
      "outputs": []
    }
  ]
}