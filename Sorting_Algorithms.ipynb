{
  "nbformat": 4,
  "nbformat_minor": 0,
  "metadata": {
    "colab": {
      "provenance": [],
      "authorship_tag": "ABX9TyPt9+qyq1bw0zsgWaDA5DR8",
      "include_colab_link": true
    },
    "kernelspec": {
      "name": "python3",
      "display_name": "Python 3"
    },
    "language_info": {
      "name": "python"
    }
  },
  "cells": [
    {
      "cell_type": "markdown",
      "metadata": {
        "id": "view-in-github",
        "colab_type": "text"
      },
      "source": [
        "<a href=\"https://colab.research.google.com/github/Bizor1/Data_structures-and-Algorithms/blob/main/Sorting_Algorithms.ipynb\" target=\"_parent\"><img src=\"https://colab.research.google.com/assets/colab-badge.svg\" alt=\"Open In Colab\"/></a>"
      ]
    },
    {
      "cell_type": "code",
      "execution_count": null,
      "metadata": {
        "id": "gDehp85nE4Wq"
      },
      "outputs": [],
      "source": [
        "test0={\n",
        "  'inputs':{\n",
        "      'nums': [4, 2, 6, 3, 4, 6, 2, 1]\n",
        "\n",
        "  },\n",
        "  'output' : [1, 2, 2, 3, 4, 4, 6, 6]\n",
        "}"
      ]
    },
    {
      "cell_type": "code",
      "source": [
        "test1 = {\n",
        "    'input': {\n",
        "        'nums' : [5, 2, 6, 1, 23, 7, -12, 12, -243, 0]\n",
        "    },\n",
        "\n",
        "    'output' :  [-243, -12, 0, 1, 2, 5, 6, 7, 12, 23]\n",
        "}"
      ],
      "metadata": {
        "id": "pmLJaQgoKaRH"
      },
      "execution_count": null,
      "outputs": []
    },
    {
      "cell_type": "code",
      "source": [
        "# A list that's already sorted\n",
        "test2 = {\n",
        "    'input': {\n",
        "        'nums': [3, 5, 6, 8, 9, 10, 99]\n",
        "    },\n",
        "    'output': [3, 5, 6, 8, 9, 10, 99]\n",
        "}\n"
      ],
      "metadata": {
        "id": "j700Ls9NLKTf"
      },
      "execution_count": null,
      "outputs": []
    },
    {
      "cell_type": "code",
      "source": [
        "# A list that's sorted in descending order\n",
        "test3 = {\n",
        "    'input': {\n",
        "        'nums': [99, 10, 9, 8, 6, 5, 3]\n",
        "    },\n",
        "    'output': [3, 5, 6, 8, 9, 10, 99]\n",
        "}"
      ],
      "metadata": {
        "id": "1YTO7XBXLbD9"
      },
      "execution_count": null,
      "outputs": []
    },
    {
      "cell_type": "code",
      "source": [
        "# A list containing repeating elements\n",
        "test4 = {\n",
        "    'input': {\n",
        "        'nums': [5, -12, 2, 6, 1, 23, 7, 7, -12, 6, 12, 1, -243, 1, 0]\n",
        "    },\n",
        "    'output': [-243, -12, -12, 0, 1, 1, 1, 2, 5, 6, 6, 7, 7, 12, 23]\n",
        "}"
      ],
      "metadata": {
        "id": "npgzDLWAL5zO"
      },
      "execution_count": null,
      "outputs": []
    },
    {
      "cell_type": "code",
      "source": [
        "# An empty list \n",
        "test5 = {\n",
        "    'input': {\n",
        "        'nums': []\n",
        "    },\n",
        "    'output': []\n",
        "}"
      ],
      "metadata": {
        "id": "R9eEDMeOL7W7"
      },
      "execution_count": null,
      "outputs": []
    },
    {
      "cell_type": "code",
      "source": [
        "# A list containing just one element\n",
        "test6 = {\n",
        "    'input': {\n",
        "        'nums': [23]\n",
        "    },\n",
        "    'output': [23]\n",
        "}"
      ],
      "metadata": {
        "id": "JjVJM1ypL_zS"
      },
      "execution_count": null,
      "outputs": []
    },
    {
      "cell_type": "code",
      "source": [
        "# A list containing one element repeated many times\n",
        "test7 = {\n",
        "    'input': {\n",
        "        'nums': [42, 42, 42, 42, 42, 42, 42]\n",
        "    },\n",
        "    'output': [42, 42, 42, 42, 42, 42, 42]\n",
        "}"
      ],
      "metadata": {
        "id": "4nrEJVyEMBdQ"
      },
      "execution_count": null,
      "outputs": []
    },
    {
      "cell_type": "code",
      "source": [
        "import random\n",
        "\n",
        "in_list = list(range(10000))\n",
        "out_list= list(range(10000))\n",
        "random.shuffle(in_list)\n",
        "\n",
        "\n",
        "test8 = {\n",
        "    'input' : {\n",
        "        'nums': in_list\n",
        "    },\n",
        "    'output' : out_list\n",
        "}\n"
      ],
      "metadata": {
        "id": "DiHeYTvNMY8R"
      },
      "execution_count": null,
      "outputs": []
    },
    {
      "cell_type": "code",
      "source": [
        "tests = [test0, test1, test2, test3, test4, test5, test6, test7, test8]"
      ],
      "metadata": {
        "id": "fLVTsoWhN1zr"
      },
      "execution_count": null,
      "outputs": []
    },
    {
      "cell_type": "code",
      "source": [],
      "metadata": {
        "id": "vuX8Zv_3N7I8"
      },
      "execution_count": null,
      "outputs": []
    }
  ]
}